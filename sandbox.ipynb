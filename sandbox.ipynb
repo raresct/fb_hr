{
 "cells": [
  {
   "cell_type": "code",
   "execution_count": 2,
   "metadata": {
    "collapsed": false
   },
   "outputs": [
    {
     "name": "stdout",
     "output_type": "stream",
     "text": [
      "Populating the interactive namespace from numpy and matplotlib\n"
     ]
    }
   ],
   "source": [
    "import numpy as np\n",
    "import pandas as pd\n",
    "import sklearn\n",
    "from sklearn import preprocessing\n",
    "from sklearn.linear_model import LogisticRegression\n",
    "from sklearn.ensemble import RandomForestClassifier\n",
    "import scipy\n",
    "import re\n",
    "import pickle\n",
    "import matplotlib.pyplot as plt\n",
    "%pylab inline"
   ]
  },
  {
   "cell_type": "code",
   "execution_count": 3,
   "metadata": {
    "collapsed": false
   },
   "outputs": [
    {
     "data": {
      "text/plain": [
       "'0.16.1'"
      ]
     },
     "execution_count": 3,
     "metadata": {},
     "output_type": "execute_result"
    }
   ],
   "source": [
    "sklearn.__version__"
   ]
  },
  {
   "cell_type": "code",
   "execution_count": 4,
   "metadata": {
    "collapsed": false
   },
   "outputs": [],
   "source": [
    "df_train = pd.read_csv('data/train.csv')\n",
    "df_test = pd.read_csv('data/test.csv')\n",
    "df_sample_sub = pd.read_csv('data/sampleSubmission.csv')\n",
    "df_bids = pd.read_csv('data/bids.csv')"
   ]
  },
  {
   "cell_type": "code",
   "execution_count": 5,
   "metadata": {
    "collapsed": false
   },
   "outputs": [
    {
     "data": {
      "text/html": [
       "<div style=\"max-height:1000px;max-width:1500px;overflow:auto;\">\n",
       "<table border=\"1\" class=\"dataframe\">\n",
       "  <thead>\n",
       "    <tr style=\"text-align: right;\">\n",
       "      <th></th>\n",
       "      <th>bidder_id</th>\n",
       "      <th>prediction</th>\n",
       "    </tr>\n",
       "  </thead>\n",
       "  <tbody>\n",
       "    <tr>\n",
       "      <th>0</th>\n",
       "      <td> 49bb5a3c944b8fc337981cc7a9ccae41u31d7</td>\n",
       "      <td> 0</td>\n",
       "    </tr>\n",
       "    <tr>\n",
       "      <th>1</th>\n",
       "      <td> a921612b85a1494456e74c09393ccb65ylp4y</td>\n",
       "      <td> 0</td>\n",
       "    </tr>\n",
       "    <tr>\n",
       "      <th>2</th>\n",
       "      <td> 6b601e72a4d264dab9ace9d7b229b47479v6i</td>\n",
       "      <td> 0</td>\n",
       "    </tr>\n",
       "    <tr>\n",
       "      <th>3</th>\n",
       "      <td> eaf0ed0afc9689779417274b4791726cn5udi</td>\n",
       "      <td> 0</td>\n",
       "    </tr>\n",
       "    <tr>\n",
       "      <th>4</th>\n",
       "      <td> cdecd8d02ed8c6037e38042c7745f688mx5sf</td>\n",
       "      <td> 0</td>\n",
       "    </tr>\n",
       "  </tbody>\n",
       "</table>\n",
       "</div>"
      ],
      "text/plain": [
       "                               bidder_id  prediction\n",
       "0  49bb5a3c944b8fc337981cc7a9ccae41u31d7           0\n",
       "1  a921612b85a1494456e74c09393ccb65ylp4y           0\n",
       "2  6b601e72a4d264dab9ace9d7b229b47479v6i           0\n",
       "3  eaf0ed0afc9689779417274b4791726cn5udi           0\n",
       "4  cdecd8d02ed8c6037e38042c7745f688mx5sf           0"
      ]
     },
     "execution_count": 5,
     "metadata": {},
     "output_type": "execute_result"
    }
   ],
   "source": [
    "df_sample_sub.head()"
   ]
  },
  {
   "cell_type": "code",
   "execution_count": 6,
   "metadata": {
    "collapsed": false
   },
   "outputs": [
    {
     "data": {
      "text/plain": [
       "(4700, 2)"
      ]
     },
     "execution_count": 6,
     "metadata": {},
     "output_type": "execute_result"
    }
   ],
   "source": [
    "df_sample_sub.shape"
   ]
  },
  {
   "cell_type": "code",
   "execution_count": 7,
   "metadata": {
    "collapsed": false
   },
   "outputs": [
    {
     "data": {
      "text/plain": [
       "bidder_id      object\n",
       "prediction    float64\n",
       "dtype: object"
      ]
     },
     "execution_count": 7,
     "metadata": {},
     "output_type": "execute_result"
    }
   ],
   "source": [
    "df_sample_sub.dtypes\n"
   ]
  },
  {
   "cell_type": "code",
   "execution_count": 8,
   "metadata": {
    "collapsed": false
   },
   "outputs": [
    {
     "data": {
      "text/html": [
       "<div style=\"max-height:1000px;max-width:1500px;overflow:auto;\">\n",
       "<table border=\"1\" class=\"dataframe\">\n",
       "  <thead>\n",
       "    <tr style=\"text-align: right;\">\n",
       "      <th></th>\n",
       "      <th>bidder_id</th>\n",
       "      <th>payment_account</th>\n",
       "      <th>address</th>\n",
       "      <th>outcome</th>\n",
       "    </tr>\n",
       "  </thead>\n",
       "  <tbody>\n",
       "    <tr>\n",
       "      <th>0</th>\n",
       "      <td> 91a3c57b13234af24875c56fb7e2b2f4rb56a</td>\n",
       "      <td> a3d2de7675556553a5f08e4c88d2c228754av</td>\n",
       "      <td> a3d2de7675556553a5f08e4c88d2c228vt0u4</td>\n",
       "      <td> 0</td>\n",
       "    </tr>\n",
       "    <tr>\n",
       "      <th>1</th>\n",
       "      <td> 624f258b49e77713fc34034560f93fb3hu3jo</td>\n",
       "      <td> a3d2de7675556553a5f08e4c88d2c228v1sga</td>\n",
       "      <td> ae87054e5a97a8f840a3991d12611fdcrfbq3</td>\n",
       "      <td> 0</td>\n",
       "    </tr>\n",
       "    <tr>\n",
       "      <th>2</th>\n",
       "      <td> 1c5f4fc669099bfbfac515cd26997bd12ruaj</td>\n",
       "      <td> a3d2de7675556553a5f08e4c88d2c2280cybl</td>\n",
       "      <td> 92520288b50f03907041887884ba49c0cl0pd</td>\n",
       "      <td> 0</td>\n",
       "    </tr>\n",
       "    <tr>\n",
       "      <th>3</th>\n",
       "      <td> 4bee9aba2abda51bf43d639013d6efe12iycd</td>\n",
       "      <td> 51d80e233f7b6a7dfdee484a3c120f3b2ita8</td>\n",
       "      <td> 4cb9717c8ad7e88a9a284989dd79b98dbevyi</td>\n",
       "      <td> 0</td>\n",
       "    </tr>\n",
       "    <tr>\n",
       "      <th>4</th>\n",
       "      <td> 4ab12bc61c82ddd9c2d65e60555808acqgos1</td>\n",
       "      <td> a3d2de7675556553a5f08e4c88d2c22857ddh</td>\n",
       "      <td> 2a96c3ce94b3be921e0296097b88b56a7x1ji</td>\n",
       "      <td> 0</td>\n",
       "    </tr>\n",
       "  </tbody>\n",
       "</table>\n",
       "</div>"
      ],
      "text/plain": [
       "                               bidder_id  \\\n",
       "0  91a3c57b13234af24875c56fb7e2b2f4rb56a   \n",
       "1  624f258b49e77713fc34034560f93fb3hu3jo   \n",
       "2  1c5f4fc669099bfbfac515cd26997bd12ruaj   \n",
       "3  4bee9aba2abda51bf43d639013d6efe12iycd   \n",
       "4  4ab12bc61c82ddd9c2d65e60555808acqgos1   \n",
       "\n",
       "                         payment_account  \\\n",
       "0  a3d2de7675556553a5f08e4c88d2c228754av   \n",
       "1  a3d2de7675556553a5f08e4c88d2c228v1sga   \n",
       "2  a3d2de7675556553a5f08e4c88d2c2280cybl   \n",
       "3  51d80e233f7b6a7dfdee484a3c120f3b2ita8   \n",
       "4  a3d2de7675556553a5f08e4c88d2c22857ddh   \n",
       "\n",
       "                                 address  outcome  \n",
       "0  a3d2de7675556553a5f08e4c88d2c228vt0u4        0  \n",
       "1  ae87054e5a97a8f840a3991d12611fdcrfbq3        0  \n",
       "2  92520288b50f03907041887884ba49c0cl0pd        0  \n",
       "3  4cb9717c8ad7e88a9a284989dd79b98dbevyi        0  \n",
       "4  2a96c3ce94b3be921e0296097b88b56a7x1ji        0  "
      ]
     },
     "execution_count": 8,
     "metadata": {},
     "output_type": "execute_result"
    }
   ],
   "source": [
    "df_train.head()"
   ]
  },
  {
   "cell_type": "code",
   "execution_count": 9,
   "metadata": {
    "collapsed": false
   },
   "outputs": [
    {
     "data": {
      "text/plain": [
       "(2013, 4)"
      ]
     },
     "execution_count": 9,
     "metadata": {},
     "output_type": "execute_result"
    }
   ],
   "source": [
    "df_train.shape"
   ]
  },
  {
   "cell_type": "code",
   "execution_count": 10,
   "metadata": {
    "collapsed": false
   },
   "outputs": [
    {
     "data": {
      "text/plain": [
       "bidder_id           object\n",
       "payment_account     object\n",
       "address             object\n",
       "outcome            float64\n",
       "dtype: object"
      ]
     },
     "execution_count": 10,
     "metadata": {},
     "output_type": "execute_result"
    }
   ],
   "source": [
    "df_train.dtypes"
   ]
  },
  {
   "cell_type": "code",
   "execution_count": 11,
   "metadata": {
    "collapsed": false
   },
   "outputs": [
    {
     "data": {
      "text/html": [
       "<div style=\"max-height:1000px;max-width:1500px;overflow:auto;\">\n",
       "<table border=\"1\" class=\"dataframe\">\n",
       "  <thead>\n",
       "    <tr style=\"text-align: right;\">\n",
       "      <th></th>\n",
       "      <th>bidder_id</th>\n",
       "      <th>payment_account</th>\n",
       "      <th>address</th>\n",
       "    </tr>\n",
       "  </thead>\n",
       "  <tbody>\n",
       "    <tr>\n",
       "      <th>0</th>\n",
       "      <td> 49bb5a3c944b8fc337981cc7a9ccae41u31d7</td>\n",
       "      <td> a3d2de7675556553a5f08e4c88d2c228htx90</td>\n",
       "      <td> 5d9fa1b71f992e7c7a106ce4b07a0a754le7c</td>\n",
       "    </tr>\n",
       "    <tr>\n",
       "      <th>1</th>\n",
       "      <td> a921612b85a1494456e74c09393ccb65ylp4y</td>\n",
       "      <td> a3d2de7675556553a5f08e4c88d2c228rs17i</td>\n",
       "      <td> a3d2de7675556553a5f08e4c88d2c228klidn</td>\n",
       "    </tr>\n",
       "    <tr>\n",
       "      <th>2</th>\n",
       "      <td> 6b601e72a4d264dab9ace9d7b229b47479v6i</td>\n",
       "      <td> 925381cce086b8cc9594eee1c77edf665zjpl</td>\n",
       "      <td> a3d2de7675556553a5f08e4c88d2c228aght0</td>\n",
       "    </tr>\n",
       "    <tr>\n",
       "      <th>3</th>\n",
       "      <td> eaf0ed0afc9689779417274b4791726cn5udi</td>\n",
       "      <td> a3d2de7675556553a5f08e4c88d2c228nclv5</td>\n",
       "      <td> b5714de1fd69d4a0d2e39d59e53fe9e15vwat</td>\n",
       "    </tr>\n",
       "    <tr>\n",
       "      <th>4</th>\n",
       "      <td> cdecd8d02ed8c6037e38042c7745f688mx5sf</td>\n",
       "      <td> a3d2de7675556553a5f08e4c88d2c228dtdkd</td>\n",
       "      <td> c3b363a3c3b838d58c85acf0fc9964cb4pnfa</td>\n",
       "    </tr>\n",
       "  </tbody>\n",
       "</table>\n",
       "</div>"
      ],
      "text/plain": [
       "                               bidder_id  \\\n",
       "0  49bb5a3c944b8fc337981cc7a9ccae41u31d7   \n",
       "1  a921612b85a1494456e74c09393ccb65ylp4y   \n",
       "2  6b601e72a4d264dab9ace9d7b229b47479v6i   \n",
       "3  eaf0ed0afc9689779417274b4791726cn5udi   \n",
       "4  cdecd8d02ed8c6037e38042c7745f688mx5sf   \n",
       "\n",
       "                         payment_account  \\\n",
       "0  a3d2de7675556553a5f08e4c88d2c228htx90   \n",
       "1  a3d2de7675556553a5f08e4c88d2c228rs17i   \n",
       "2  925381cce086b8cc9594eee1c77edf665zjpl   \n",
       "3  a3d2de7675556553a5f08e4c88d2c228nclv5   \n",
       "4  a3d2de7675556553a5f08e4c88d2c228dtdkd   \n",
       "\n",
       "                                 address  \n",
       "0  5d9fa1b71f992e7c7a106ce4b07a0a754le7c  \n",
       "1  a3d2de7675556553a5f08e4c88d2c228klidn  \n",
       "2  a3d2de7675556553a5f08e4c88d2c228aght0  \n",
       "3  b5714de1fd69d4a0d2e39d59e53fe9e15vwat  \n",
       "4  c3b363a3c3b838d58c85acf0fc9964cb4pnfa  "
      ]
     },
     "execution_count": 11,
     "metadata": {},
     "output_type": "execute_result"
    }
   ],
   "source": [
    "df_test.head()"
   ]
  },
  {
   "cell_type": "code",
   "execution_count": 12,
   "metadata": {
    "collapsed": false
   },
   "outputs": [
    {
     "data": {
      "text/plain": [
       "(4700, 3)"
      ]
     },
     "execution_count": 12,
     "metadata": {},
     "output_type": "execute_result"
    }
   ],
   "source": [
    "df_test.shape"
   ]
  },
  {
   "cell_type": "code",
   "execution_count": 13,
   "metadata": {
    "collapsed": false
   },
   "outputs": [
    {
     "data": {
      "text/plain": [
       "bidder_id          object\n",
       "payment_account    object\n",
       "address            object\n",
       "dtype: object"
      ]
     },
     "execution_count": 13,
     "metadata": {},
     "output_type": "execute_result"
    }
   ],
   "source": [
    "df_test.dtypes"
   ]
  },
  {
   "cell_type": "code",
   "execution_count": 14,
   "metadata": {
    "collapsed": false
   },
   "outputs": [
    {
     "data": {
      "text/html": [
       "<div style=\"max-height:1000px;max-width:1500px;overflow:auto;\">\n",
       "<table border=\"1\" class=\"dataframe\">\n",
       "  <thead>\n",
       "    <tr style=\"text-align: right;\">\n",
       "      <th></th>\n",
       "      <th>bid_id</th>\n",
       "      <th>bidder_id</th>\n",
       "      <th>auction</th>\n",
       "      <th>merchandise</th>\n",
       "      <th>device</th>\n",
       "      <th>time</th>\n",
       "      <th>country</th>\n",
       "      <th>ip</th>\n",
       "      <th>url</th>\n",
       "    </tr>\n",
       "  </thead>\n",
       "  <tbody>\n",
       "    <tr>\n",
       "      <th>0</th>\n",
       "      <td> 0</td>\n",
       "      <td> 8dac2b259fd1c6d1120e519fb1ac14fbqvax8</td>\n",
       "      <td> ewmzr</td>\n",
       "      <td>    jewelry</td>\n",
       "      <td> phone0</td>\n",
       "      <td> 9759243157894736</td>\n",
       "      <td> us</td>\n",
       "      <td>  69.166.231.58</td>\n",
       "      <td> vasstdc27m7nks3</td>\n",
       "    </tr>\n",
       "    <tr>\n",
       "      <th>1</th>\n",
       "      <td> 1</td>\n",
       "      <td> 668d393e858e8126275433046bbd35c6tywop</td>\n",
       "      <td> aeqok</td>\n",
       "      <td>  furniture</td>\n",
       "      <td> phone1</td>\n",
       "      <td> 9759243157894736</td>\n",
       "      <td> in</td>\n",
       "      <td>  50.201.125.84</td>\n",
       "      <td> jmqlhflrzwuay9c</td>\n",
       "    </tr>\n",
       "    <tr>\n",
       "      <th>2</th>\n",
       "      <td> 2</td>\n",
       "      <td> aa5f360084278b35d746fa6af3a7a1a5ra3xe</td>\n",
       "      <td> wa00e</td>\n",
       "      <td> home goods</td>\n",
       "      <td> phone2</td>\n",
       "      <td> 9759243157894736</td>\n",
       "      <td> py</td>\n",
       "      <td> 112.54.208.157</td>\n",
       "      <td> vasstdc27m7nks3</td>\n",
       "    </tr>\n",
       "    <tr>\n",
       "      <th>3</th>\n",
       "      <td> 3</td>\n",
       "      <td> 3939ac3ef7d472a59a9c5f893dd3e39fh9ofi</td>\n",
       "      <td> jefix</td>\n",
       "      <td>    jewelry</td>\n",
       "      <td> phone4</td>\n",
       "      <td> 9759243157894736</td>\n",
       "      <td> in</td>\n",
       "      <td>  18.99.175.133</td>\n",
       "      <td> vasstdc27m7nks3</td>\n",
       "    </tr>\n",
       "    <tr>\n",
       "      <th>4</th>\n",
       "      <td> 4</td>\n",
       "      <td> 8393c48eaf4b8fa96886edc7cf27b372dsibi</td>\n",
       "      <td> jefix</td>\n",
       "      <td>    jewelry</td>\n",
       "      <td> phone5</td>\n",
       "      <td> 9759243157894736</td>\n",
       "      <td> in</td>\n",
       "      <td>   145.138.5.37</td>\n",
       "      <td> vasstdc27m7nks3</td>\n",
       "    </tr>\n",
       "  </tbody>\n",
       "</table>\n",
       "</div>"
      ],
      "text/plain": [
       "   bid_id                              bidder_id auction merchandise  device  \\\n",
       "0       0  8dac2b259fd1c6d1120e519fb1ac14fbqvax8   ewmzr     jewelry  phone0   \n",
       "1       1  668d393e858e8126275433046bbd35c6tywop   aeqok   furniture  phone1   \n",
       "2       2  aa5f360084278b35d746fa6af3a7a1a5ra3xe   wa00e  home goods  phone2   \n",
       "3       3  3939ac3ef7d472a59a9c5f893dd3e39fh9ofi   jefix     jewelry  phone4   \n",
       "4       4  8393c48eaf4b8fa96886edc7cf27b372dsibi   jefix     jewelry  phone5   \n",
       "\n",
       "               time country              ip              url  \n",
       "0  9759243157894736      us   69.166.231.58  vasstdc27m7nks3  \n",
       "1  9759243157894736      in   50.201.125.84  jmqlhflrzwuay9c  \n",
       "2  9759243157894736      py  112.54.208.157  vasstdc27m7nks3  \n",
       "3  9759243157894736      in   18.99.175.133  vasstdc27m7nks3  \n",
       "4  9759243157894736      in    145.138.5.37  vasstdc27m7nks3  "
      ]
     },
     "execution_count": 14,
     "metadata": {},
     "output_type": "execute_result"
    }
   ],
   "source": [
    "df_bids.head()"
   ]
  },
  {
   "cell_type": "code",
   "execution_count": 15,
   "metadata": {
    "collapsed": false
   },
   "outputs": [
    {
     "data": {
      "text/plain": [
       "(7656334, 9)"
      ]
     },
     "execution_count": 15,
     "metadata": {},
     "output_type": "execute_result"
    }
   ],
   "source": [
    "df_bids.shape"
   ]
  },
  {
   "cell_type": "code",
   "execution_count": 16,
   "metadata": {
    "collapsed": false
   },
   "outputs": [
    {
     "data": {
      "text/plain": [
       "bid_id          int64\n",
       "bidder_id      object\n",
       "auction        object\n",
       "merchandise    object\n",
       "device         object\n",
       "time            int64\n",
       "country        object\n",
       "ip             object\n",
       "url            object\n",
       "dtype: object"
      ]
     },
     "execution_count": 16,
     "metadata": {},
     "output_type": "execute_result"
    }
   ],
   "source": [
    "df_bids.dtypes"
   ]
  },
  {
   "cell_type": "code",
   "execution_count": 17,
   "metadata": {
    "collapsed": true
   },
   "outputs": [],
   "source": [
    "def df_cat(df, col_names):\n",
    "    le = preprocessing.LabelEncoder()\n",
    "    ohe = preprocessing.OneHotEncoder()\n",
    "    col_l = [cat_proc(df, name, le, ohe) for name in col_names]\n",
    "    return scipy.sparse.hstack(col_l)\n",
    "\n",
    "def cat_proc(df, name, le, ohe):\n",
    "    col_arr = df[name].values\n",
    "    col_int = le.fit_transform(col_arr)\n",
    "    col_int = col_int.reshape(col_int.shape[0],1)\n",
    "    col_cat = ohe.fit_transform(col_int)\n",
    "    print col_cat.shape\n",
    "    return col_cat"
   ]
  },
  {
   "cell_type": "code",
   "execution_count": 18,
   "metadata": {
    "collapsed": false
   },
   "outputs": [
    {
     "name": "stdout",
     "output_type": "stream",
     "text": [
      "(7656334, 15051)\n",
      "(7656334, 10)\n",
      "(7656334, 7351)\n",
      "(7656334, 200)\n",
      "(7656334, 1786351)\n"
     ]
    },
    {
     "name": "stderr",
     "output_type": "stream",
     "text": [
      "/usr/local/lib/python2.7/dist-packages/numpy/lib/arraysetops.py:197: FutureWarning: numpy not_equal will not check object identity in the future. The comparison did not return the same result as suggested by the identity (`is`)) and will change.\n",
      "  flag = np.concatenate(([True], aux[1:] != aux[:-1]))\n"
     ]
    }
   ],
   "source": [
    "all_names = ['auction', 'merchandise', 'device', 'country', 'url']\n",
    "bids_cat = df_cat(df_bids, all_names)"
   ]
  },
  {
   "cell_type": "code",
   "execution_count": 19,
   "metadata": {
    "collapsed": false
   },
   "outputs": [
    {
     "data": {
      "text/plain": [
       "(7656334, 1808963)"
      ]
     },
     "execution_count": 19,
     "metadata": {},
     "output_type": "execute_result"
    }
   ],
   "source": [
    "bids_cat.shape"
   ]
  },
  {
   "cell_type": "code",
   "execution_count": 7,
   "metadata": {
    "collapsed": false
   },
   "outputs": [],
   "source": [
    "# this eats up all my memory\n",
    "\n",
    "#%%time\n",
    "#pattern = re.compile('(\\d+)\\.(\\d+)\\.(\\d+)\\.(\\d+)')\n",
    "#def split_ip(ip):\n",
    "#    return pd.Series([int(s) for s in pattern.match(ip).groups()], index = ['ip1', 'ip2', 'ip3', 'ip4'])\n",
    "#ips = df_bids['ip'].head(100000).apply(split_ip)"
   ]
  },
  {
   "cell_type": "code",
   "execution_count": 39,
   "metadata": {
    "collapsed": false
   },
   "outputs": [],
   "source": [
    "# so I write to csv and do it with sed\n",
    "df_bids['ip'].to_csv('data/ip.csv', index=False)"
   ]
  },
  {
   "cell_type": "code",
   "execution_count": 38,
   "metadata": {
    "collapsed": true
   },
   "outputs": [],
   "source": [
    "%%bash\n",
    "sed 's/\\([0-9]*\\)\\.\\([0-9]*\\)\\.\\([0-9]*\\)\\.\\([0-9]*\\)/\\1,\\2,\\3,\\4/' <data/ip.csv >data/ips.csv"
   ]
  },
  {
   "cell_type": "code",
   "execution_count": 20,
   "metadata": {
    "collapsed": true
   },
   "outputs": [],
   "source": [
    "df_ips = pd.read_csv('data/ips.csv', header=None)"
   ]
  },
  {
   "cell_type": "code",
   "execution_count": 21,
   "metadata": {
    "collapsed": false
   },
   "outputs": [
    {
     "data": {
      "text/plain": [
       "(7656334, 4)"
      ]
     },
     "execution_count": 21,
     "metadata": {},
     "output_type": "execute_result"
    }
   ],
   "source": [
    "df_ips.shape"
   ]
  },
  {
   "cell_type": "code",
   "execution_count": 22,
   "metadata": {
    "collapsed": false
   },
   "outputs": [],
   "source": [
    "bids_int = np.hstack([df_ips.values, df_bids['time'].reshape(df_bids['time'].shape[0],1)])"
   ]
  },
  {
   "cell_type": "code",
   "execution_count": 23,
   "metadata": {
    "collapsed": false
   },
   "outputs": [
    {
     "data": {
      "text/plain": [
       "(7656334, 5)"
      ]
     },
     "execution_count": 23,
     "metadata": {},
     "output_type": "execute_result"
    }
   ],
   "source": [
    "bids_int.shape"
   ]
  },
  {
   "cell_type": "code",
   "execution_count": 24,
   "metadata": {
    "collapsed": false
   },
   "outputs": [],
   "source": [
    "bids_sparse = scipy.sparse.hstack([bids_cat, bids_int])"
   ]
  },
  {
   "cell_type": "code",
   "execution_count": 25,
   "metadata": {
    "collapsed": false
   },
   "outputs": [
    {
     "data": {
      "text/plain": [
       "(7656334, 1808968)"
      ]
     },
     "execution_count": 25,
     "metadata": {},
     "output_type": "execute_result"
    }
   ],
   "source": [
    "bids_sparse.shape"
   ]
  },
  {
   "cell_type": "code",
   "execution_count": 26,
   "metadata": {
    "collapsed": false
   },
   "outputs": [],
   "source": [
    "bids_train_idx = df_bids['bidder_id'].isin(list(df_train['bidder_id'])).values\n",
    "bids_train = bids_sparse.tocsr()[bids_train_idx, :]"
   ]
  },
  {
   "cell_type": "code",
   "execution_count": 27,
   "metadata": {
    "collapsed": false
   },
   "outputs": [],
   "source": [
    "bids_test = bids_sparse.tocsr()[~bids_train_idx, :]"
   ]
  },
  {
   "cell_type": "code",
   "execution_count": 28,
   "metadata": {
    "collapsed": false
   },
   "outputs": [
    {
     "data": {
      "text/plain": [
       "(7656334, 7656334)"
      ]
     },
     "execution_count": 28,
     "metadata": {},
     "output_type": "execute_result"
    }
   ],
   "source": [
    "bids_train.shape[0]+bids_test.shape[0], bids_sparse.shape[0]"
   ]
  },
  {
   "cell_type": "code",
   "execution_count": 29,
   "metadata": {
    "collapsed": false
   },
   "outputs": [],
   "source": [
    "bids_y = df_bids[bids_train_idx].merge(df_train, on='bidder_id')['outcome'].values"
   ]
  },
  {
   "cell_type": "code",
   "execution_count": 30,
   "metadata": {
    "collapsed": false
   },
   "outputs": [
    {
     "data": {
      "text/plain": [
       "((3071224,), (3071224, 1808968))"
      ]
     },
     "execution_count": 30,
     "metadata": {},
     "output_type": "execute_result"
    }
   ],
   "source": [
    "bids_y.shape, bids_train.shape"
   ]
  },
  {
   "cell_type": "code",
   "execution_count": null,
   "metadata": {
    "collapsed": false
   },
   "outputs": [],
   "source": [
    "model = RandomForestClassifier()\n",
    "model = model.fit(bids_train, bids_y)"
   ]
  },
  {
   "cell_type": "code",
   "execution_count": 20,
   "metadata": {
    "collapsed": false
   },
   "outputs": [
    {
     "data": {
      "text/plain": [
       "0.9940388587742216"
      ]
     },
     "execution_count": 20,
     "metadata": {},
     "output_type": "execute_result"
    }
   ],
   "source": [
    "model.score(bids_train, bids_y)"
   ]
  },
  {
   "cell_type": "code",
   "execution_count": 21,
   "metadata": {
    "collapsed": false
   },
   "outputs": [
    {
     "data": {
      "text/plain": [
       "0.090147891762683993"
      ]
     },
     "execution_count": 21,
     "metadata": {},
     "output_type": "execute_result"
    }
   ],
   "source": [
    "np.mean(model.predict(bids_test))"
   ]
  },
  {
   "cell_type": "code",
   "execution_count": 141,
   "metadata": {
    "collapsed": false
   },
   "outputs": [
    {
     "data": {
      "text/plain": [
       "0.13428392067787956"
      ]
     },
     "execution_count": 141,
     "metadata": {},
     "output_type": "execute_result"
    }
   ],
   "source": [
    "bids_y.mean()"
   ]
  },
  {
   "cell_type": "code",
   "execution_count": 22,
   "metadata": {
    "collapsed": false
   },
   "outputs": [
    {
     "data": {
      "text/plain": [
       "{'bootstrap': True,\n",
       " 'class_weight': None,\n",
       " 'criterion': 'gini',\n",
       " 'max_depth': None,\n",
       " 'max_features': 'auto',\n",
       " 'max_leaf_nodes': None,\n",
       " 'min_samples_leaf': 1,\n",
       " 'min_samples_split': 2,\n",
       " 'min_weight_fraction_leaf': 0.0,\n",
       " 'n_estimators': 10,\n",
       " 'n_jobs': 1,\n",
       " 'oob_score': False,\n",
       " 'random_state': None,\n",
       " 'verbose': 0,\n",
       " 'warm_start': False}"
      ]
     },
     "execution_count": 22,
     "metadata": {},
     "output_type": "execute_result"
    }
   ],
   "source": [
    "model.get_params()"
   ]
  },
  {
   "cell_type": "code",
   "execution_count": 26,
   "metadata": {
    "collapsed": false
   },
   "outputs": [],
   "source": [
    "pickle.dump(model, open('default_rf.pkl', 'w'))"
   ]
  },
  {
   "cell_type": "code",
   "execution_count": 27,
   "metadata": {
    "collapsed": true
   },
   "outputs": [],
   "source": [
    "bids_test_probs = model.predict_proba(bids_test)"
   ]
  },
  {
   "cell_type": "code",
   "execution_count": 28,
   "metadata": {
    "collapsed": false
   },
   "outputs": [
    {
     "data": {
      "text/plain": [
       "(4585110, 2)"
      ]
     },
     "execution_count": 28,
     "metadata": {},
     "output_type": "execute_result"
    }
   ],
   "source": [
    "bids_test_probs.shape"
   ]
  },
  {
   "cell_type": "code",
   "execution_count": 29,
   "metadata": {
    "collapsed": false
   },
   "outputs": [
    {
     "data": {
      "text/plain": [
       "(4585110, 215)"
      ]
     },
     "execution_count": 29,
     "metadata": {},
     "output_type": "execute_result"
    }
   ],
   "source": [
    "bids_test.shape"
   ]
  },
  {
   "cell_type": "code",
   "execution_count": 35,
   "metadata": {
    "collapsed": true
   },
   "outputs": [],
   "source": [
    "bid_ids_test = df_bids[~bids_train_idx]['bidder_id']"
   ]
  },
  {
   "cell_type": "code",
   "execution_count": 67,
   "metadata": {
    "collapsed": false
   },
   "outputs": [
    {
     "data": {
      "text/plain": [
       "(4585110,)"
      ]
     },
     "execution_count": 67,
     "metadata": {},
     "output_type": "execute_result"
    }
   ],
   "source": [
    "bid_ids_test.shape"
   ]
  },
  {
   "cell_type": "code",
   "execution_count": 65,
   "metadata": {
    "collapsed": false
   },
   "outputs": [
    {
     "name": "stdout",
     "output_type": "stream",
     "text": [
      "[ 0.  0.  0.  0.]\n",
      "0.0\n"
     ]
    }
   ],
   "source": [
    "for bidder_id in list(df_test['bidder_id'])[:1]:\n",
    "    idxs = np.nonzero(bid_ids_test.isin([bidder_id]))[0]\n",
    "    print(bids_test_probs[idxs,1])\n",
    "    np.mean(bids_test_probs[idxs,1])"
   ]
  },
  {
   "cell_type": "code",
   "execution_count": 64,
   "metadata": {
    "collapsed": false
   },
   "outputs": [
    {
     "data": {
      "text/plain": [
       "(array([  2.73224000e+06,   6.86142000e+05,   5.71188000e+05,\n",
       "          4.80000000e+01,   1.13349000e+05,   1.17867000e+05,\n",
       "          4.37200000e+04,   1.80000000e+01,   4.98030000e+04,\n",
       "          2.70735000e+05]),\n",
       " array([ 0. ,  0.1,  0.2,  0.3,  0.4,  0.5,  0.6,  0.7,  0.8,  0.9,  1. ]),\n",
       " <a list of 10 Patch objects>)"
      ]
     },
     "execution_count": 64,
     "metadata": {},
     "output_type": "execute_result"
    },
    {
     "data": {
      "image/png": "[encoded data removed]",
      "text/plain": [
       "<matplotlib.figure.Figure at 0x7f422a6a9f50>"
      ]
     },
     "metadata": {},
     "output_type": "display_data"
    }
   ],
   "source": [
    "plt.hist(bids_test_probs[:,1])"
   ]
  },
  {
   "cell_type": "code",
   "execution_count": 120,
   "metadata": {
    "collapsed": false
   },
   "outputs": [],
   "source": [
    "bids_pred = pd.DataFrame(np.hstack([bid_ids_test.values.reshape(-1,1), bids_test_probs[:,1].reshape(-1,1)]), \n",
    "                         columns=['bidder_id','prediction'])\n",
    "bids_pred['prediction'] = bids_pred['prediction'].astype(float)\n",
    "submission = bids_pred.groupby('bidder_id').mean()\n",
    "submission.reset_index(level=0, inplace=True)"
   ]
  },
  {
   "cell_type": "code",
   "execution_count": 121,
   "metadata": {
    "collapsed": false
   },
   "outputs": [
    {
     "data": {
      "text/plain": [
       "(4630, 2)"
      ]
     },
     "execution_count": 121,
     "metadata": {},
     "output_type": "execute_result"
    }
   ],
   "source": [
    "submission.shape"
   ]
  },
  {
   "cell_type": "code",
   "execution_count": 122,
   "metadata": {
    "collapsed": false
   },
   "outputs": [],
   "source": [
    "# add missing bidders\n",
    "missing_ids = list(set(df_test['bidder_id'])-set(bids_pred['bidder_id']))\n",
    "\n",
    "missing = pd.DataFrame(np.hstack([np.array(missing_ids).reshape(-1,1), np.zeros((len(missing_ids),1))]),\n",
    "                       columns=['bidder_id','prediction'])\n",
    "submission=submission.append(missing)"
   ]
  },
  {
   "cell_type": "code",
   "execution_count": 123,
   "metadata": {
    "collapsed": false
   },
   "outputs": [
    {
     "data": {
      "text/html": [
       "<div style=\"max-height:1000px;max-width:1500px;overflow:auto;\">\n",
       "<table border=\"1\" class=\"dataframe\">\n",
       "  <thead>\n",
       "    <tr style=\"text-align: right;\">\n",
       "      <th></th>\n",
       "      <th>bidder_id</th>\n",
       "      <th>prediction</th>\n",
       "    </tr>\n",
       "  </thead>\n",
       "  <tbody>\n",
       "    <tr>\n",
       "      <th>0 </th>\n",
       "      <td> 002d229ffb247009810828f648afc2ef593rb</td>\n",
       "      <td>            0</td>\n",
       "    </tr>\n",
       "    <tr>\n",
       "      <th>1 </th>\n",
       "      <td> 003180b29c6a5f8f1d84a6b7b6f7be57tjj1o</td>\n",
       "      <td>          0.3</td>\n",
       "    </tr>\n",
       "    <tr>\n",
       "      <th>2 </th>\n",
       "      <td> 00486a11dff552c4bd7696265724ff81yeo9v</td>\n",
       "      <td>        0.185</td>\n",
       "    </tr>\n",
       "    <tr>\n",
       "      <th>3 </th>\n",
       "      <td> 0051aef3fdeacdadba664b9b3b07e04e4coc6</td>\n",
       "      <td>   0.04852941</td>\n",
       "    </tr>\n",
       "    <tr>\n",
       "      <th>4 </th>\n",
       "      <td> 0053b78cde37c4384a20d2da9aa4272aym4pb</td>\n",
       "      <td>    0.1899534</td>\n",
       "    </tr>\n",
       "    <tr>\n",
       "      <th>5 </th>\n",
       "      <td> 0061edfc5b07ff3d70d693883a38d370oy4fs</td>\n",
       "      <td>    0.1529851</td>\n",
       "    </tr>\n",
       "    <tr>\n",
       "      <th>6 </th>\n",
       "      <td> 00862324eb508ca5202b6d4e5f1a80fc3t3lp</td>\n",
       "      <td>            0</td>\n",
       "    </tr>\n",
       "    <tr>\n",
       "      <th>7 </th>\n",
       "      <td> 009479273c288b1dd096dc3087653499lrx3c</td>\n",
       "      <td>            0</td>\n",
       "    </tr>\n",
       "    <tr>\n",
       "      <th>8 </th>\n",
       "      <td> 009cee781e8414f7fb55b2f92157e9dbu0y6o</td>\n",
       "      <td>            0</td>\n",
       "    </tr>\n",
       "    <tr>\n",
       "      <th>9 </th>\n",
       "      <td> 00a79ebd15f0b24a0a3b5794457cd8ed7dng1</td>\n",
       "      <td> 0.0002512563</td>\n",
       "    </tr>\n",
       "    <tr>\n",
       "      <th>10</th>\n",
       "      <td> 00b519ec8ed5e370328451379bb708a306eoj</td>\n",
       "      <td>    0.1039363</td>\n",
       "    </tr>\n",
       "    <tr>\n",
       "      <th>11</th>\n",
       "      <td> 00ceb1b66fc6c08f2e1b7937b5bc7f870qn5k</td>\n",
       "      <td>      0.21125</td>\n",
       "    </tr>\n",
       "    <tr>\n",
       "      <th>12</th>\n",
       "      <td> 00dd948c3a88f7b68f1952dbeeac68ffb6qoc</td>\n",
       "      <td>          0.2</td>\n",
       "    </tr>\n",
       "    <tr>\n",
       "      <th>13</th>\n",
       "      <td> 00e0f614d9dd32dd27f6080f472d2934emlos</td>\n",
       "      <td>    0.1399614</td>\n",
       "    </tr>\n",
       "    <tr>\n",
       "      <th>14</th>\n",
       "      <td> 010e5ed5eb439e0daf1870a0b426e32cztbdt</td>\n",
       "      <td>   0.08095238</td>\n",
       "    </tr>\n",
       "    <tr>\n",
       "      <th>15</th>\n",
       "      <td> 0113d101ec6aabd354adac645a1ec3e82ln88</td>\n",
       "      <td>    0.2201493</td>\n",
       "    </tr>\n",
       "    <tr>\n",
       "      <th>16</th>\n",
       "      <td> 0165dcd38f54e83aafb7bb3d95cd9369800km</td>\n",
       "      <td>          0.3</td>\n",
       "    </tr>\n",
       "    <tr>\n",
       "      <th>17</th>\n",
       "      <td> 016e3c511caf01a845c9c976bbf355a6m1nns</td>\n",
       "      <td>            0</td>\n",
       "    </tr>\n",
       "    <tr>\n",
       "      <th>18</th>\n",
       "      <td> 0176025cc599cb59f825d592b8ef3ee3p5aqv</td>\n",
       "      <td>            0</td>\n",
       "    </tr>\n",
       "    <tr>\n",
       "      <th>19</th>\n",
       "      <td> 018c9ecc065880c95e21c0291a3b478dj1c0a</td>\n",
       "      <td>            0</td>\n",
       "    </tr>\n",
       "    <tr>\n",
       "      <th>20</th>\n",
       "      <td> 0196137a75792cfa9e1ffae0c968f8e5h5eqq</td>\n",
       "      <td>   0.05753425</td>\n",
       "    </tr>\n",
       "    <tr>\n",
       "      <th>21</th>\n",
       "      <td> 019cf2d366df756c092c91e26f406acdozha7</td>\n",
       "      <td>    0.1528571</td>\n",
       "    </tr>\n",
       "    <tr>\n",
       "      <th>22</th>\n",
       "      <td> 01a2f136b87e5c544e2f2c59295bea7ebwv8y</td>\n",
       "      <td>   0.01304348</td>\n",
       "    </tr>\n",
       "    <tr>\n",
       "      <th>23</th>\n",
       "      <td> 01c729a32b5f51f088884b558cd2cfd1xz1qe</td>\n",
       "      <td>            0</td>\n",
       "    </tr>\n",
       "    <tr>\n",
       "      <th>24</th>\n",
       "      <td> 01d5348d4d4472288c0c458d8630504165r4k</td>\n",
       "      <td>    0.1142857</td>\n",
       "    </tr>\n",
       "    <tr>\n",
       "      <th>25</th>\n",
       "      <td> 01e4994f0a29fa76c7595fe3929bec777acv0</td>\n",
       "      <td>       0.1875</td>\n",
       "    </tr>\n",
       "    <tr>\n",
       "      <th>26</th>\n",
       "      <td> 01ecfeb5d9946423c7fb088a84fe77c3smw4c</td>\n",
       "      <td>            0</td>\n",
       "    </tr>\n",
       "    <tr>\n",
       "      <th>27</th>\n",
       "      <td> 0204227c6c8042ec8d8cc1bacb0d44b1csycb</td>\n",
       "      <td>    0.1009646</td>\n",
       "    </tr>\n",
       "    <tr>\n",
       "      <th>28</th>\n",
       "      <td> 02127cccff7c56391882f1d58dd960fchwfua</td>\n",
       "      <td>    0.3055556</td>\n",
       "    </tr>\n",
       "    <tr>\n",
       "      <th>29</th>\n",
       "      <td> 023d51d2bcf7d962c766ff570fa7a21ds3c96</td>\n",
       "      <td>     0.172093</td>\n",
       "    </tr>\n",
       "    <tr>\n",
       "      <th>...</th>\n",
       "      <td>...</td>\n",
       "      <td>...</td>\n",
       "    </tr>\n",
       "    <tr>\n",
       "      <th>40</th>\n",
       "      <td> 04f9a93f45c1108baa3c1447ad4ff5a1mqfhx</td>\n",
       "      <td>          0.0</td>\n",
       "    </tr>\n",
       "    <tr>\n",
       "      <th>41</th>\n",
       "      <td> e9537a3cc673b28ef6f1a0afdbf9f2f5gvlda</td>\n",
       "      <td>          0.0</td>\n",
       "    </tr>\n",
       "    <tr>\n",
       "      <th>42</th>\n",
       "      <td> dd9b2f3c0665eaa1fe1b003ff84ad0b6lz4rh</td>\n",
       "      <td>          0.0</td>\n",
       "    </tr>\n",
       "    <tr>\n",
       "      <th>43</th>\n",
       "      <td> a8bc2691a8829e7ff6de1a3a278316b4md6am</td>\n",
       "      <td>          0.0</td>\n",
       "    </tr>\n",
       "    <tr>\n",
       "      <th>44</th>\n",
       "      <td> 9e489a858cfa0eb9dd49ef2e099d6b01wv7vd</td>\n",
       "      <td>          0.0</td>\n",
       "    </tr>\n",
       "    <tr>\n",
       "      <th>45</th>\n",
       "      <td> 6fbc321df89494d3a88b7786ceccb998i0xiw</td>\n",
       "      <td>          0.0</td>\n",
       "    </tr>\n",
       "    <tr>\n",
       "      <th>46</th>\n",
       "      <td> 89851afe2974694ac73617368dc9a5e8ii3ml</td>\n",
       "      <td>          0.0</td>\n",
       "    </tr>\n",
       "    <tr>\n",
       "      <th>47</th>\n",
       "      <td> 7d391450425c40d5b0952fa01310169ajrosk</td>\n",
       "      <td>          0.0</td>\n",
       "    </tr>\n",
       "    <tr>\n",
       "      <th>48</th>\n",
       "      <td> 63eeea746f5f230db8158ed02655d980b01x4</td>\n",
       "      <td>          0.0</td>\n",
       "    </tr>\n",
       "    <tr>\n",
       "      <th>49</th>\n",
       "      <td> f27ba21cfe18f0d04be295b66ad2e031bwwmv</td>\n",
       "      <td>          0.0</td>\n",
       "    </tr>\n",
       "    <tr>\n",
       "      <th>50</th>\n",
       "      <td> 18e51363df33bea41f78031f14a4e652yqsu6</td>\n",
       "      <td>          0.0</td>\n",
       "    </tr>\n",
       "    <tr>\n",
       "      <th>51</th>\n",
       "      <td> 17124130846356e7f05d5f22f55536b8wlkd0</td>\n",
       "      <td>          0.0</td>\n",
       "    </tr>\n",
       "    <tr>\n",
       "      <th>52</th>\n",
       "      <td> 29687849c26ce05106b2662d84d2a518q7vre</td>\n",
       "      <td>          0.0</td>\n",
       "    </tr>\n",
       "    <tr>\n",
       "      <th>53</th>\n",
       "      <td> 947d81fb9a20025305a20da67445fa5d3fkvi</td>\n",
       "      <td>          0.0</td>\n",
       "    </tr>\n",
       "    <tr>\n",
       "      <th>54</th>\n",
       "      <td> c67eccdb822df42a659a0c38b34e4b71s0npw</td>\n",
       "      <td>          0.0</td>\n",
       "    </tr>\n",
       "    <tr>\n",
       "      <th>55</th>\n",
       "      <td> c61e3b4829efc40ec8e304811cad9bddgafhg</td>\n",
       "      <td>          0.0</td>\n",
       "    </tr>\n",
       "    <tr>\n",
       "      <th>56</th>\n",
       "      <td> 07cd1845a74d253238121c1201d0b345mgava</td>\n",
       "      <td>          0.0</td>\n",
       "    </tr>\n",
       "    <tr>\n",
       "      <th>57</th>\n",
       "      <td> c57c2ec5d02445346f8ea795fdc31e66sh9ao</td>\n",
       "      <td>          0.0</td>\n",
       "    </tr>\n",
       "    <tr>\n",
       "      <th>58</th>\n",
       "      <td> 2fea03270fb5a3be2e275bdaf7f80819eierl</td>\n",
       "      <td>          0.0</td>\n",
       "    </tr>\n",
       "    <tr>\n",
       "      <th>59</th>\n",
       "      <td> 6659e7b320819c1f92d53f54844826c1014uf</td>\n",
       "      <td>          0.0</td>\n",
       "    </tr>\n",
       "    <tr>\n",
       "      <th>60</th>\n",
       "      <td> a48f8c34dd8acc8f0150ee729f500df6luw4q</td>\n",
       "      <td>          0.0</td>\n",
       "    </tr>\n",
       "    <tr>\n",
       "      <th>61</th>\n",
       "      <td> 1167d6417a89aa4f38aff6899cb3f57cre65k</td>\n",
       "      <td>          0.0</td>\n",
       "    </tr>\n",
       "    <tr>\n",
       "      <th>62</th>\n",
       "      <td> 94bbdc684b0a24abc75adfd110edf0f8jy4ga</td>\n",
       "      <td>          0.0</td>\n",
       "    </tr>\n",
       "    <tr>\n",
       "      <th>63</th>\n",
       "      <td> b24e3af20453813e821f5a22ff55e072tgton</td>\n",
       "      <td>          0.0</td>\n",
       "    </tr>\n",
       "    <tr>\n",
       "      <th>64</th>\n",
       "      <td> 398e1ceb86f4ceeacb642a4cc41b8ae2b3h3w</td>\n",
       "      <td>          0.0</td>\n",
       "    </tr>\n",
       "    <tr>\n",
       "      <th>65</th>\n",
       "      <td> 527a02486f101c43808a2a4b54d2ba9er2vc7</td>\n",
       "      <td>          0.0</td>\n",
       "    </tr>\n",
       "    <tr>\n",
       "      <th>66</th>\n",
       "      <td> 677fe35ddddb143b117f7e36eef3c332ru33r</td>\n",
       "      <td>          0.0</td>\n",
       "    </tr>\n",
       "    <tr>\n",
       "      <th>67</th>\n",
       "      <td> 4c52e75ae5ce36ed3f46b629bb5b2438h0wm4</td>\n",
       "      <td>          0.0</td>\n",
       "    </tr>\n",
       "    <tr>\n",
       "      <th>68</th>\n",
       "      <td> 4b24254e994ad8abcc4b5b4020991960q7j30</td>\n",
       "      <td>          0.0</td>\n",
       "    </tr>\n",
       "    <tr>\n",
       "      <th>69</th>\n",
       "      <td> 489eb6ca4792b3201e2ef80c3ff4f8836kdlb</td>\n",
       "      <td>          0.0</td>\n",
       "    </tr>\n",
       "  </tbody>\n",
       "</table>\n",
       "<p>4700 rows × 2 columns</p>\n",
       "</div>"
      ],
      "text/plain": [
       "                                bidder_id    prediction\n",
       "0   002d229ffb247009810828f648afc2ef593rb             0\n",
       "1   003180b29c6a5f8f1d84a6b7b6f7be57tjj1o           0.3\n",
       "2   00486a11dff552c4bd7696265724ff81yeo9v         0.185\n",
       "3   0051aef3fdeacdadba664b9b3b07e04e4coc6    0.04852941\n",
       "4   0053b78cde37c4384a20d2da9aa4272aym4pb     0.1899534\n",
       "5   0061edfc5b07ff3d70d693883a38d370oy4fs     0.1529851\n",
       "6   00862324eb508ca5202b6d4e5f1a80fc3t3lp             0\n",
       "7   009479273c288b1dd096dc3087653499lrx3c             0\n",
       "8   009cee781e8414f7fb55b2f92157e9dbu0y6o             0\n",
       "9   00a79ebd15f0b24a0a3b5794457cd8ed7dng1  0.0002512563\n",
       "10  00b519ec8ed5e370328451379bb708a306eoj     0.1039363\n",
       "11  00ceb1b66fc6c08f2e1b7937b5bc7f870qn5k       0.21125\n",
       "12  00dd948c3a88f7b68f1952dbeeac68ffb6qoc           0.2\n",
       "13  00e0f614d9dd32dd27f6080f472d2934emlos     0.1399614\n",
       "14  010e5ed5eb439e0daf1870a0b426e32cztbdt    0.08095238\n",
       "15  0113d101ec6aabd354adac645a1ec3e82ln88     0.2201493\n",
       "16  0165dcd38f54e83aafb7bb3d95cd9369800km           0.3\n",
       "17  016e3c511caf01a845c9c976bbf355a6m1nns             0\n",
       "18  0176025cc599cb59f825d592b8ef3ee3p5aqv             0\n",
       "19  018c9ecc065880c95e21c0291a3b478dj1c0a             0\n",
       "20  0196137a75792cfa9e1ffae0c968f8e5h5eqq    0.05753425\n",
       "21  019cf2d366df756c092c91e26f406acdozha7     0.1528571\n",
       "22  01a2f136b87e5c544e2f2c59295bea7ebwv8y    0.01304348\n",
       "23  01c729a32b5f51f088884b558cd2cfd1xz1qe             0\n",
       "24  01d5348d4d4472288c0c458d8630504165r4k     0.1142857\n",
       "25  01e4994f0a29fa76c7595fe3929bec777acv0        0.1875\n",
       "26  01ecfeb5d9946423c7fb088a84fe77c3smw4c             0\n",
       "27  0204227c6c8042ec8d8cc1bacb0d44b1csycb     0.1009646\n",
       "28  02127cccff7c56391882f1d58dd960fchwfua     0.3055556\n",
       "29  023d51d2bcf7d962c766ff570fa7a21ds3c96      0.172093\n",
       "..                                    ...           ...\n",
       "40  04f9a93f45c1108baa3c1447ad4ff5a1mqfhx           0.0\n",
       "41  e9537a3cc673b28ef6f1a0afdbf9f2f5gvlda           0.0\n",
       "42  dd9b2f3c0665eaa1fe1b003ff84ad0b6lz4rh           0.0\n",
       "43  a8bc2691a8829e7ff6de1a3a278316b4md6am           0.0\n",
       "44  9e489a858cfa0eb9dd49ef2e099d6b01wv7vd           0.0\n",
       "45  6fbc321df89494d3a88b7786ceccb998i0xiw           0.0\n",
       "46  89851afe2974694ac73617368dc9a5e8ii3ml           0.0\n",
       "47  7d391450425c40d5b0952fa01310169ajrosk           0.0\n",
       "48  63eeea746f5f230db8158ed02655d980b01x4           0.0\n",
       "49  f27ba21cfe18f0d04be295b66ad2e031bwwmv           0.0\n",
       "50  18e51363df33bea41f78031f14a4e652yqsu6           0.0\n",
       "51  17124130846356e7f05d5f22f55536b8wlkd0           0.0\n",
       "52  29687849c26ce05106b2662d84d2a518q7vre           0.0\n",
       "53  947d81fb9a20025305a20da67445fa5d3fkvi           0.0\n",
       "54  c67eccdb822df42a659a0c38b34e4b71s0npw           0.0\n",
       "55  c61e3b4829efc40ec8e304811cad9bddgafhg           0.0\n",
       "56  07cd1845a74d253238121c1201d0b345mgava           0.0\n",
       "57  c57c2ec5d02445346f8ea795fdc31e66sh9ao           0.0\n",
       "58  2fea03270fb5a3be2e275bdaf7f80819eierl           0.0\n",
       "59  6659e7b320819c1f92d53f54844826c1014uf           0.0\n",
       "60  a48f8c34dd8acc8f0150ee729f500df6luw4q           0.0\n",
       "61  1167d6417a89aa4f38aff6899cb3f57cre65k           0.0\n",
       "62  94bbdc684b0a24abc75adfd110edf0f8jy4ga           0.0\n",
       "63  b24e3af20453813e821f5a22ff55e072tgton           0.0\n",
       "64  398e1ceb86f4ceeacb642a4cc41b8ae2b3h3w           0.0\n",
       "65  527a02486f101c43808a2a4b54d2ba9er2vc7           0.0\n",
       "66  677fe35ddddb143b117f7e36eef3c332ru33r           0.0\n",
       "67  4c52e75ae5ce36ed3f46b629bb5b2438h0wm4           0.0\n",
       "68  4b24254e994ad8abcc4b5b4020991960q7j30           0.0\n",
       "69  489eb6ca4792b3201e2ef80c3ff4f8836kdlb           0.0\n",
       "\n",
       "[4700 rows x 2 columns]"
      ]
     },
     "execution_count": 123,
     "metadata": {},
     "output_type": "execute_result"
    }
   ],
   "source": [
    "submission"
   ]
  },
  {
   "cell_type": "code",
   "execution_count": 124,
   "metadata": {
    "collapsed": true
   },
   "outputs": [],
   "source": [
    "submission.to_csv('default_rf.csv', index=False)"
   ]
  },
  {
   "cell_type": "code",
   "execution_count": null,
   "metadata": {
    "collapsed": true
   },
   "outputs": [],
   "source": []
  }
 ],
 "metadata": {
  "kernelspec": {
   "display_name": "Python 2",
   "language": "python",
   "name": "python2"
  },
  "language_info": {
   "codemirror_mode": {
    "name": "ipython",
    "version": 2
   },
   "file_extension": ".py",
   "mimetype": "text/x-python",
   "name": "python",
   "nbconvert_exporter": "python",
   "pygments_lexer": "ipython2",
   "version": "2.7.8"
  }
 },
 "nbformat": 4,
 "nbformat_minor": 0
}

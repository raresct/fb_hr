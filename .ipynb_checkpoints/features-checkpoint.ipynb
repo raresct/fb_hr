{
 "cells": [
  {
   "cell_type": "code",
   "execution_count": 1,
   "metadata": {
    "collapsed": false
   },
   "outputs": [
    {
     "name": "stdout",
     "output_type": "stream",
     "text": [
      "Populating the interactive namespace from numpy and matplotlib\n"
     ]
    }
   ],
   "source": [
    "import numpy as np\n",
    "import pandas as pd\n",
    "import sklearn\n",
    "from sklearn import preprocessing\n",
    "from sklearn.linear_model import LogisticRegression\n",
    "from sklearn.ensemble import RandomForestClassifier\n",
    "import scipy\n",
    "import re\n",
    "import pickle\n",
    "import matplotlib.pyplot as plt\n",
    "%pylab inline"
   ]
  },
  {
   "cell_type": "code",
   "execution_count": 2,
   "metadata": {
    "collapsed": true
   },
   "outputs": [],
   "source": [
    "df_train = pd.read_csv('data/train.csv')\n",
    "df_test = pd.read_csv('data/test.csv')\n",
    "df_sample_sub = pd.read_csv('data/sampleSubmission.csv')\n",
    "df_bids = pd.read_csv('data/bids.csv')"
   ]
  },
  {
   "cell_type": "code",
   "execution_count": 20,
   "metadata": {
    "collapsed": false
   },
   "outputs": [
    {
     "data": {
      "text/html": [
       "<div style=\"max-height:1000px;max-width:1500px;overflow:auto;\">\n",
       "<table border=\"1\" class=\"dataframe\">\n",
       "  <thead>\n",
       "    <tr style=\"text-align: right;\">\n",
       "      <th></th>\n",
       "      <th>bid_id</th>\n",
       "      <th>bidder_id</th>\n",
       "      <th>auction</th>\n",
       "      <th>merchandise</th>\n",
       "      <th>device</th>\n",
       "      <th>time</th>\n",
       "      <th>country</th>\n",
       "      <th>ip</th>\n",
       "      <th>url</th>\n",
       "    </tr>\n",
       "  </thead>\n",
       "  <tbody>\n",
       "    <tr>\n",
       "      <th>0      </th>\n",
       "      <td>       0</td>\n",
       "      <td> 8dac2b259fd1c6d1120e519fb1ac14fbqvax8</td>\n",
       "      <td> ewmzr</td>\n",
       "      <td>          jewelry</td>\n",
       "      <td>    phone0</td>\n",
       "      <td> 9759243157894736</td>\n",
       "      <td> us</td>\n",
       "      <td>   69.166.231.58</td>\n",
       "      <td> vasstdc27m7nks3</td>\n",
       "    </tr>\n",
       "    <tr>\n",
       "      <th>1      </th>\n",
       "      <td>       1</td>\n",
       "      <td> 668d393e858e8126275433046bbd35c6tywop</td>\n",
       "      <td> aeqok</td>\n",
       "      <td>        furniture</td>\n",
       "      <td>    phone1</td>\n",
       "      <td> 9759243157894736</td>\n",
       "      <td> in</td>\n",
       "      <td>   50.201.125.84</td>\n",
       "      <td> jmqlhflrzwuay9c</td>\n",
       "    </tr>\n",
       "    <tr>\n",
       "      <th>2      </th>\n",
       "      <td>       2</td>\n",
       "      <td> aa5f360084278b35d746fa6af3a7a1a5ra3xe</td>\n",
       "      <td> wa00e</td>\n",
       "      <td>       home goods</td>\n",
       "      <td>    phone2</td>\n",
       "      <td> 9759243157894736</td>\n",
       "      <td> py</td>\n",
       "      <td>  112.54.208.157</td>\n",
       "      <td> vasstdc27m7nks3</td>\n",
       "    </tr>\n",
       "    <tr>\n",
       "      <th>3      </th>\n",
       "      <td>       3</td>\n",
       "      <td> 3939ac3ef7d472a59a9c5f893dd3e39fh9ofi</td>\n",
       "      <td> jefix</td>\n",
       "      <td>          jewelry</td>\n",
       "      <td>    phone4</td>\n",
       "      <td> 9759243157894736</td>\n",
       "      <td> in</td>\n",
       "      <td>   18.99.175.133</td>\n",
       "      <td> vasstdc27m7nks3</td>\n",
       "    </tr>\n",
       "    <tr>\n",
       "      <th>4      </th>\n",
       "      <td>       4</td>\n",
       "      <td> 8393c48eaf4b8fa96886edc7cf27b372dsibi</td>\n",
       "      <td> jefix</td>\n",
       "      <td>          jewelry</td>\n",
       "      <td>    phone5</td>\n",
       "      <td> 9759243157894736</td>\n",
       "      <td> in</td>\n",
       "      <td>    145.138.5.37</td>\n",
       "      <td> vasstdc27m7nks3</td>\n",
       "    </tr>\n",
       "    <tr>\n",
       "      <th>5      </th>\n",
       "      <td>       5</td>\n",
       "      <td> e8291466de91b0eb4e1515143c7f74dexy2yr</td>\n",
       "      <td> 3vi4t</td>\n",
       "      <td>           mobile</td>\n",
       "      <td>    phone7</td>\n",
       "      <td> 9759243157894736</td>\n",
       "      <td> ru</td>\n",
       "      <td>   91.107.221.27</td>\n",
       "      <td> vasstdc27m7nks3</td>\n",
       "    </tr>\n",
       "    <tr>\n",
       "      <th>6      </th>\n",
       "      <td>       6</td>\n",
       "      <td> eef4c687daf977f64fc1d08675c44444raj3s</td>\n",
       "      <td> kjlzx</td>\n",
       "      <td>           mobile</td>\n",
       "      <td>    phone2</td>\n",
       "      <td> 9759243210526315</td>\n",
       "      <td> th</td>\n",
       "      <td> 152.235.155.159</td>\n",
       "      <td> j9nl1xmo6fqhcc6</td>\n",
       "    </tr>\n",
       "    <tr>\n",
       "      <th>7      </th>\n",
       "      <td>       7</td>\n",
       "      <td> ab056855c9ca9d36390feae1fa485883issyg</td>\n",
       "      <td> f5f6k</td>\n",
       "      <td>       home goods</td>\n",
       "      <td>    phone8</td>\n",
       "      <td> 9759243210526315</td>\n",
       "      <td> id</td>\n",
       "      <td>   3.210.112.183</td>\n",
       "      <td> hnt6hu93a3z1cpc</td>\n",
       "    </tr>\n",
       "    <tr>\n",
       "      <th>8      </th>\n",
       "      <td>       8</td>\n",
       "      <td> d600dc03b11e7d782e1e4dae091b084a1h5ch</td>\n",
       "      <td> h7jjx</td>\n",
       "      <td>       home goods</td>\n",
       "      <td>    phone9</td>\n",
       "      <td> 9759243210526315</td>\n",
       "      <td> th</td>\n",
       "      <td>  103.64.157.225</td>\n",
       "      <td> vasstdc27m7nks3</td>\n",
       "    </tr>\n",
       "    <tr>\n",
       "      <th>9      </th>\n",
       "      <td>       9</td>\n",
       "      <td> a58ace8b671a7531c88814bc86b2a34cf0crb</td>\n",
       "      <td> 3zpkj</td>\n",
       "      <td>   sporting goods</td>\n",
       "      <td>    phone4</td>\n",
       "      <td> 9759243210526315</td>\n",
       "      <td> za</td>\n",
       "      <td>  123.28.123.226</td>\n",
       "      <td> vasstdc27m7nks3</td>\n",
       "    </tr>\n",
       "    <tr>\n",
       "      <th>10     </th>\n",
       "      <td>      10</td>\n",
       "      <td> a58ace8b671a7531c88814bc86b2a34cf0crb</td>\n",
       "      <td> z6j8b</td>\n",
       "      <td>   sporting goods</td>\n",
       "      <td>   phone10</td>\n",
       "      <td> 9759243210526315</td>\n",
       "      <td> ng</td>\n",
       "      <td>   209.80.85.101</td>\n",
       "      <td> adgjz71s3p2oiau</td>\n",
       "    </tr>\n",
       "    <tr>\n",
       "      <th>11     </th>\n",
       "      <td>      11</td>\n",
       "      <td> fe37b8b29d26021ea9462bcc7c5bf5c2pbya7</td>\n",
       "      <td> jefix</td>\n",
       "      <td>          jewelry</td>\n",
       "      <td>   phone11</td>\n",
       "      <td> 9759243210526315</td>\n",
       "      <td> sd</td>\n",
       "      <td> 249.145.124.218</td>\n",
       "      <td> 9qikt9049fyukcd</td>\n",
       "    </tr>\n",
       "    <tr>\n",
       "      <th>12     </th>\n",
       "      <td>      12</td>\n",
       "      <td> 990db0dcdb665fb8fda5845b3e5d63082mbqq</td>\n",
       "      <td> jefix</td>\n",
       "      <td>       home goods</td>\n",
       "      <td>   phone12</td>\n",
       "      <td> 9759243263157894</td>\n",
       "      <td> in</td>\n",
       "      <td>    200.212.4.79</td>\n",
       "      <td> f07dfiidpjifv9w</td>\n",
       "    </tr>\n",
       "    <tr>\n",
       "      <th>13     </th>\n",
       "      <td>      13</td>\n",
       "      <td> 7e34a26c4c339e875997f4b9239d2b5fscng4</td>\n",
       "      <td> nbx39</td>\n",
       "      <td>           mobile</td>\n",
       "      <td>   phone13</td>\n",
       "      <td> 9759243263157894</td>\n",
       "      <td> in</td>\n",
       "      <td>  143.183.225.33</td>\n",
       "      <td> e5i17pk9wygxewv</td>\n",
       "    </tr>\n",
       "    <tr>\n",
       "      <th>14     </th>\n",
       "      <td>      14</td>\n",
       "      <td> 8dac2b259fd1c6d1120e519fb1ac14fbqvax8</td>\n",
       "      <td> wberf</td>\n",
       "      <td>          jewelry</td>\n",
       "      <td>   phone15</td>\n",
       "      <td> 9759243263157894</td>\n",
       "      <td> au</td>\n",
       "      <td> 134.243.148.253</td>\n",
       "      <td> vasstdc27m7nks3</td>\n",
       "    </tr>\n",
       "    <tr>\n",
       "      <th>15     </th>\n",
       "      <td>      15</td>\n",
       "      <td> 6c8ffec692e88d81e1b18d47818abb04v6llr</td>\n",
       "      <td> 3pt0o</td>\n",
       "      <td>       home goods</td>\n",
       "      <td>    phone3</td>\n",
       "      <td> 9759243263157894</td>\n",
       "      <td> id</td>\n",
       "      <td> 220.216.170.202</td>\n",
       "      <td> l2585vww95sbk1c</td>\n",
       "    </tr>\n",
       "    <tr>\n",
       "      <th>16     </th>\n",
       "      <td>      16</td>\n",
       "      <td> 1a9c554b044c77239b63636008d353d4vy9kh</td>\n",
       "      <td> xk5nb</td>\n",
       "      <td>           mobile</td>\n",
       "      <td>   phone16</td>\n",
       "      <td> 9759243263157894</td>\n",
       "      <td> in</td>\n",
       "      <td>  130.252.241.92</td>\n",
       "      <td> z0xsd05zh5z8j7l</td>\n",
       "    </tr>\n",
       "    <tr>\n",
       "      <th>17     </th>\n",
       "      <td>      17</td>\n",
       "      <td> ffbc0fdfbf19a8a9116b68714138f2902cc13</td>\n",
       "      <td> nbx39</td>\n",
       "      <td>           mobile</td>\n",
       "      <td>   phone17</td>\n",
       "      <td> 9759243263157894</td>\n",
       "      <td> in</td>\n",
       "      <td>  254.230.31.160</td>\n",
       "      <td> qlbvjmkspxawtn1</td>\n",
       "    </tr>\n",
       "    <tr>\n",
       "      <th>18     </th>\n",
       "      <td>      18</td>\n",
       "      <td> c4856fd5abe8f6d6dea36ca2fec444faauos8</td>\n",
       "      <td> 2hkjh</td>\n",
       "      <td>          jewelry</td>\n",
       "      <td>   phone18</td>\n",
       "      <td> 9759243263157894</td>\n",
       "      <td> us</td>\n",
       "      <td>    161.0.93.123</td>\n",
       "      <td> 9vr179ujwjgoxt3</td>\n",
       "    </tr>\n",
       "    <tr>\n",
       "      <th>19     </th>\n",
       "      <td>      19</td>\n",
       "      <td> 37bf6f23b628a3e2b5b22ba81beccbef0efoh</td>\n",
       "      <td> qtmwx</td>\n",
       "      <td>          jewelry</td>\n",
       "      <td>   phone16</td>\n",
       "      <td> 9759243263157894</td>\n",
       "      <td> in</td>\n",
       "      <td>    67.52.51.193</td>\n",
       "      <td> r1pn2yun70umqqk</td>\n",
       "    </tr>\n",
       "    <tr>\n",
       "      <th>20     </th>\n",
       "      <td>      20</td>\n",
       "      <td> af9c96944265cf541b3fe734a057821a825l7</td>\n",
       "      <td> jtxiv</td>\n",
       "      <td> office equipment</td>\n",
       "      <td>   phone19</td>\n",
       "      <td> 9759243263157894</td>\n",
       "      <td> hr</td>\n",
       "      <td>   144.100.75.92</td>\n",
       "      <td> vasstdc27m7nks3</td>\n",
       "    </tr>\n",
       "    <tr>\n",
       "      <th>21     </th>\n",
       "      <td>      21</td>\n",
       "      <td> d174177146370aacbd5ae107b6be78828tx3e</td>\n",
       "      <td> ksqse</td>\n",
       "      <td>       home goods</td>\n",
       "      <td>    phone2</td>\n",
       "      <td> 9759243263157894</td>\n",
       "      <td> in</td>\n",
       "      <td>   249.27.204.83</td>\n",
       "      <td> vasstdc27m7nks3</td>\n",
       "    </tr>\n",
       "    <tr>\n",
       "      <th>22     </th>\n",
       "      <td>      22</td>\n",
       "      <td> 6b09f3376045ebad1504abe3b05c9c943aezq</td>\n",
       "      <td> ctfha</td>\n",
       "      <td>          jewelry</td>\n",
       "      <td>    phone5</td>\n",
       "      <td> 9759243263157894</td>\n",
       "      <td> np</td>\n",
       "      <td>    20.126.72.67</td>\n",
       "      <td> vasstdc27m7nks3</td>\n",
       "    </tr>\n",
       "    <tr>\n",
       "      <th>23     </th>\n",
       "      <td>      23</td>\n",
       "      <td> 6c8ffec692e88d81e1b18d47818abb04v6llr</td>\n",
       "      <td> 2yowp</td>\n",
       "      <td>       home goods</td>\n",
       "      <td>   phone20</td>\n",
       "      <td> 9759243263157894</td>\n",
       "      <td> iq</td>\n",
       "      <td>  140.231.164.76</td>\n",
       "      <td> s29w055z2b9jsyt</td>\n",
       "    </tr>\n",
       "    <tr>\n",
       "      <th>24     </th>\n",
       "      <td>      24</td>\n",
       "      <td> d47110cdd3eeb1ec25659f4285730e0a28ofd</td>\n",
       "      <td> 7msk4</td>\n",
       "      <td>          jewelry</td>\n",
       "      <td>   phone21</td>\n",
       "      <td> 9759243315789473</td>\n",
       "      <td> id</td>\n",
       "      <td>    65.42.174.33</td>\n",
       "      <td> uzh1u393rqmc1ox</td>\n",
       "    </tr>\n",
       "    <tr>\n",
       "      <th>25     </th>\n",
       "      <td>      25</td>\n",
       "      <td> 668d393e858e8126275433046bbd35c6tywop</td>\n",
       "      <td> 38v0a</td>\n",
       "      <td>        furniture</td>\n",
       "      <td>    phone4</td>\n",
       "      <td> 9759243315789473</td>\n",
       "      <td> bd</td>\n",
       "      <td>   147.64.206.30</td>\n",
       "      <td> vasstdc27m7nks3</td>\n",
       "    </tr>\n",
       "    <tr>\n",
       "      <th>26     </th>\n",
       "      <td>      26</td>\n",
       "      <td> c709b6c05ebd88124fe639a70103c8aerho8s</td>\n",
       "      <td> 46i7t</td>\n",
       "      <td>       home goods</td>\n",
       "      <td>   phone23</td>\n",
       "      <td> 9759243315789473</td>\n",
       "      <td> tr</td>\n",
       "      <td> 214.175.246.198</td>\n",
       "      <td> vasstdc27m7nks3</td>\n",
       "    </tr>\n",
       "    <tr>\n",
       "      <th>27     </th>\n",
       "      <td>      27</td>\n",
       "      <td> aa5f360084278b35d746fa6af3a7a1a5ra3xe</td>\n",
       "      <td> 88xe3</td>\n",
       "      <td>       home goods</td>\n",
       "      <td>   phone24</td>\n",
       "      <td> 9759243315789473</td>\n",
       "      <td> ch</td>\n",
       "      <td>   144.203.164.7</td>\n",
       "      <td> 526pa711hpwgwta</td>\n",
       "    </tr>\n",
       "    <tr>\n",
       "      <th>28     </th>\n",
       "      <td>      28</td>\n",
       "      <td> a58ace8b671a7531c88814bc86b2a34cf0crb</td>\n",
       "      <td> 74uth</td>\n",
       "      <td>   sporting goods</td>\n",
       "      <td>   phone25</td>\n",
       "      <td> 9759243315789473</td>\n",
       "      <td> ke</td>\n",
       "      <td>  243.125.22.173</td>\n",
       "      <td> co51dtt0pyag991</td>\n",
       "    </tr>\n",
       "    <tr>\n",
       "      <th>29     </th>\n",
       "      <td>      29</td>\n",
       "      <td> 0dea01e325acccb9d2e7cdbf0150619c6aycy</td>\n",
       "      <td> hf2fe</td>\n",
       "      <td>          jewelry</td>\n",
       "      <td>   phone26</td>\n",
       "      <td> 9759243315789473</td>\n",
       "      <td> th</td>\n",
       "      <td>  86.200.121.249</td>\n",
       "      <td> v8nphksxp6sr3o1</td>\n",
       "    </tr>\n",
       "    <tr>\n",
       "      <th>...</th>\n",
       "      <td>...</td>\n",
       "      <td>...</td>\n",
       "      <td>...</td>\n",
       "      <td>...</td>\n",
       "      <td>...</td>\n",
       "      <td>...</td>\n",
       "      <td>...</td>\n",
       "      <td>...</td>\n",
       "      <td>...</td>\n",
       "    </tr>\n",
       "    <tr>\n",
       "      <th>7656304</th>\n",
       "      <td> 7656304</td>\n",
       "      <td> 7b31d9d8b5e749cdd2c300cbcbb5f875kjlsz</td>\n",
       "      <td> 436hc</td>\n",
       "      <td>          jewelry</td>\n",
       "      <td>  phone129</td>\n",
       "      <td> 9709221947368421</td>\n",
       "      <td> id</td>\n",
       "      <td>  137.136.99.105</td>\n",
       "      <td> vasstdc27m7nks3</td>\n",
       "    </tr>\n",
       "    <tr>\n",
       "      <th>7656305</th>\n",
       "      <td> 7656305</td>\n",
       "      <td> 8251041848182e6468c8119905a177dekmshg</td>\n",
       "      <td> sxgg1</td>\n",
       "      <td>           mobile</td>\n",
       "      <td>   phone33</td>\n",
       "      <td> 9709221947368421</td>\n",
       "      <td> my</td>\n",
       "      <td>   141.13.102.15</td>\n",
       "      <td> 93ujuq0ow6ut8ej</td>\n",
       "    </tr>\n",
       "    <tr>\n",
       "      <th>7656306</th>\n",
       "      <td> 7656306</td>\n",
       "      <td> f5b2bbad20d1d7ded3ed960393bec0f40u6hn</td>\n",
       "      <td> i1zt4</td>\n",
       "      <td>   sporting goods</td>\n",
       "      <td>  phone101</td>\n",
       "      <td> 9709221947368421</td>\n",
       "      <td> za</td>\n",
       "      <td>  216.40.171.139</td>\n",
       "      <td> vasstdc27m7nks3</td>\n",
       "    </tr>\n",
       "    <tr>\n",
       "      <th>7656307</th>\n",
       "      <td> 7656307</td>\n",
       "      <td> 700966013ae97127a88ddd166e4c11fb383s0</td>\n",
       "      <td> 3i7yq</td>\n",
       "      <td>       home goods</td>\n",
       "      <td>  phone393</td>\n",
       "      <td> 9709221947368421</td>\n",
       "      <td> ng</td>\n",
       "      <td>   33.156.38.204</td>\n",
       "      <td> vasstdc27m7nks3</td>\n",
       "    </tr>\n",
       "    <tr>\n",
       "      <th>7656308</th>\n",
       "      <td> 7656308</td>\n",
       "      <td> 7264bde42ef4fe3fa19cc7c6d64696cf7pqtd</td>\n",
       "      <td> jqx39</td>\n",
       "      <td>          jewelry</td>\n",
       "      <td>    phone3</td>\n",
       "      <td> 9709221947368421</td>\n",
       "      <td> in</td>\n",
       "      <td>  181.56.172.244</td>\n",
       "      <td> a0f2j3fwdr0711h</td>\n",
       "    </tr>\n",
       "    <tr>\n",
       "      <th>7656309</th>\n",
       "      <td> 7656309</td>\n",
       "      <td> 29c103503e1d6ace5626fb07a5ab0dafrtjvs</td>\n",
       "      <td> plhvh</td>\n",
       "      <td>          jewelry</td>\n",
       "      <td>  phone208</td>\n",
       "      <td> 9709221947368421</td>\n",
       "      <td> my</td>\n",
       "      <td>    246.78.84.28</td>\n",
       "      <td> ynt7hnnipqzgqya</td>\n",
       "    </tr>\n",
       "    <tr>\n",
       "      <th>7656310</th>\n",
       "      <td> 7656310</td>\n",
       "      <td> 3350dc181383b032a6542a61c67713f9lmevm</td>\n",
       "      <td> r9bkk</td>\n",
       "      <td>           mobile</td>\n",
       "      <td>  phone178</td>\n",
       "      <td> 9709221947368421</td>\n",
       "      <td> uk</td>\n",
       "      <td> 163.217.207.124</td>\n",
       "      <td> gue9k1s3p2colah</td>\n",
       "    </tr>\n",
       "    <tr>\n",
       "      <th>7656311</th>\n",
       "      <td> 7656311</td>\n",
       "      <td> 11d5f6925da5809e2d447788b85d6253jj8fu</td>\n",
       "      <td> k3vyk</td>\n",
       "      <td>          jewelry</td>\n",
       "      <td>   phone98</td>\n",
       "      <td> 9709222000000000</td>\n",
       "      <td> in</td>\n",
       "      <td> 173.149.164.232</td>\n",
       "      <td> vasstdc27m7nks3</td>\n",
       "    </tr>\n",
       "    <tr>\n",
       "      <th>7656312</th>\n",
       "      <td> 7656312</td>\n",
       "      <td> ac2d643e0c0d3bfe8e54e5a961c6cfdb5xn9v</td>\n",
       "      <td> cj0ud</td>\n",
       "      <td>        furniture</td>\n",
       "      <td>   phone76</td>\n",
       "      <td> 9709222000000000</td>\n",
       "      <td> th</td>\n",
       "      <td>   36.116.118.68</td>\n",
       "      <td> vasstdc27m7nks3</td>\n",
       "    </tr>\n",
       "    <tr>\n",
       "      <th>7656313</th>\n",
       "      <td> 7656313</td>\n",
       "      <td> 9655ccc7c0c193f1549475f02c54dce45kjw7</td>\n",
       "      <td> jqx39</td>\n",
       "      <td>   sporting goods</td>\n",
       "      <td>  phone115</td>\n",
       "      <td> 9709222000000000</td>\n",
       "      <td> iq</td>\n",
       "      <td>   10.162.170.57</td>\n",
       "      <td> vasstdc27m7nks3</td>\n",
       "    </tr>\n",
       "    <tr>\n",
       "      <th>7656314</th>\n",
       "      <td> 7656314</td>\n",
       "      <td> f5b2bbad20d1d7ded3ed960393bec0f40u6hn</td>\n",
       "      <td> t6vqu</td>\n",
       "      <td>   sporting goods</td>\n",
       "      <td>   phone93</td>\n",
       "      <td> 9709222000000000</td>\n",
       "      <td> in</td>\n",
       "      <td>    152.5.81.191</td>\n",
       "      <td> 0pohd8rlkkwjhmc</td>\n",
       "    </tr>\n",
       "    <tr>\n",
       "      <th>7656315</th>\n",
       "      <td> 7656315</td>\n",
       "      <td> 3e2f6796d57de4ed3e311de6832755938jue0</td>\n",
       "      <td> m0i8j</td>\n",
       "      <td>       home goods</td>\n",
       "      <td> phone2903</td>\n",
       "      <td> 9709222000000000</td>\n",
       "      <td> us</td>\n",
       "      <td>   186.19.51.149</td>\n",
       "      <td> yc4b1pwe18ap2xy</td>\n",
       "    </tr>\n",
       "    <tr>\n",
       "      <th>7656316</th>\n",
       "      <td> 7656316</td>\n",
       "      <td> 3350dc181383b032a6542a61c67713f9lmevm</td>\n",
       "      <td> zu7ij</td>\n",
       "      <td>           mobile</td>\n",
       "      <td> phone1226</td>\n",
       "      <td> 9709222000000000</td>\n",
       "      <td> vn</td>\n",
       "      <td>   133.93.34.164</td>\n",
       "      <td> vasstdc27m7nks3</td>\n",
       "    </tr>\n",
       "    <tr>\n",
       "      <th>7656317</th>\n",
       "      <td> 7656317</td>\n",
       "      <td> c5c2d4b9864f2e985012c4eea0f99af4a7qlx</td>\n",
       "      <td> 1olil</td>\n",
       "      <td>        computers</td>\n",
       "      <td>   phone99</td>\n",
       "      <td> 9709222000000000</td>\n",
       "      <td> ru</td>\n",
       "      <td>  59.102.183.155</td>\n",
       "      <td> z3qzkki3dy6ndjb</td>\n",
       "    </tr>\n",
       "    <tr>\n",
       "      <th>7656318</th>\n",
       "      <td> 7656318</td>\n",
       "      <td> 6713e820273f591bdff7d26a48ee30c5k4iii</td>\n",
       "      <td> efqf6</td>\n",
       "      <td>          jewelry</td>\n",
       "      <td>   phone91</td>\n",
       "      <td> 9709222000000000</td>\n",
       "      <td> tr</td>\n",
       "      <td>   67.59.156.153</td>\n",
       "      <td> 5eyjocq5x16mby3</td>\n",
       "    </tr>\n",
       "    <tr>\n",
       "      <th>7656319</th>\n",
       "      <td> 7656319</td>\n",
       "      <td> 66513f72be85596a527f9f653db3cb72cq4jg</td>\n",
       "      <td> obrso</td>\n",
       "      <td>           mobile</td>\n",
       "      <td>  phone218</td>\n",
       "      <td> 9709222000000000</td>\n",
       "      <td> my</td>\n",
       "      <td> 101.146.132.199</td>\n",
       "      <td> 10cwyfdww39890h</td>\n",
       "    </tr>\n",
       "    <tr>\n",
       "      <th>7656320</th>\n",
       "      <td> 7656320</td>\n",
       "      <td> 93e3c34171ab65e0b031dc67461e48b478u36</td>\n",
       "      <td> uotsf</td>\n",
       "      <td>          jewelry</td>\n",
       "      <td>   phone26</td>\n",
       "      <td> 9709222000000000</td>\n",
       "      <td> np</td>\n",
       "      <td>   71.30.203.219</td>\n",
       "      <td> vasstdc27m7nks3</td>\n",
       "    </tr>\n",
       "    <tr>\n",
       "      <th>7656321</th>\n",
       "      <td> 7656321</td>\n",
       "      <td> f5b2bbad20d1d7ded3ed960393bec0f40u6hn</td>\n",
       "      <td> gja6c</td>\n",
       "      <td>   sporting goods</td>\n",
       "      <td>    phone1</td>\n",
       "      <td> 9709222000000000</td>\n",
       "      <td> za</td>\n",
       "      <td>  231.197.103.67</td>\n",
       "      <td> pqzlexr3qrl6gmx</td>\n",
       "    </tr>\n",
       "    <tr>\n",
       "      <th>7656322</th>\n",
       "      <td> 7656322</td>\n",
       "      <td> ab536d878cbf7fd8347859dcec97ca2a9oz07</td>\n",
       "      <td> jqx39</td>\n",
       "      <td>          jewelry</td>\n",
       "      <td>   phone35</td>\n",
       "      <td> 9709222000000000</td>\n",
       "      <td> in</td>\n",
       "      <td>   76.122.132.27</td>\n",
       "      <td> 9vntn3qqkm0h60m</td>\n",
       "    </tr>\n",
       "    <tr>\n",
       "      <th>7656323</th>\n",
       "      <td> 7656323</td>\n",
       "      <td> 9655ccc7c0c193f1549475f02c54dce45kjw7</td>\n",
       "      <td> 1f9t0</td>\n",
       "      <td>   sporting goods</td>\n",
       "      <td>  phone718</td>\n",
       "      <td> 9709222000000000</td>\n",
       "      <td> us</td>\n",
       "      <td>   199.76.204.89</td>\n",
       "      <td> vasstdc27m7nks3</td>\n",
       "    </tr>\n",
       "    <tr>\n",
       "      <th>7656324</th>\n",
       "      <td> 7656324</td>\n",
       "      <td> 3350dc181383b032a6542a61c67713f9lmevm</td>\n",
       "      <td> r9bkk</td>\n",
       "      <td>           mobile</td>\n",
       "      <td>  phone611</td>\n",
       "      <td> 9709222052631578</td>\n",
       "      <td> ro</td>\n",
       "      <td>   42.29.129.142</td>\n",
       "      <td> h7a3m8vrjodnkoe</td>\n",
       "    </tr>\n",
       "    <tr>\n",
       "      <th>7656325</th>\n",
       "      <td> 7656325</td>\n",
       "      <td> 93e3c34171ab65e0b031dc67461e48b478u36</td>\n",
       "      <td> jmny0</td>\n",
       "      <td>          jewelry</td>\n",
       "      <td>  phone892</td>\n",
       "      <td> 9709222052631578</td>\n",
       "      <td> id</td>\n",
       "      <td>  136.144.47.247</td>\n",
       "      <td> 36phop3q8vduhf5</td>\n",
       "    </tr>\n",
       "    <tr>\n",
       "      <th>7656326</th>\n",
       "      <td> 7656326</td>\n",
       "      <td> 03aafab9868455b78f0723eda86698ba9v9rm</td>\n",
       "      <td> lw44y</td>\n",
       "      <td>           mobile</td>\n",
       "      <td>   phone16</td>\n",
       "      <td> 9709222052631578</td>\n",
       "      <td> in</td>\n",
       "      <td>   5.146.235.202</td>\n",
       "      <td> oqknoadbcbcm6so</td>\n",
       "    </tr>\n",
       "    <tr>\n",
       "      <th>7656327</th>\n",
       "      <td> 7656327</td>\n",
       "      <td> a939f51234ad2c44eb9ccc84e754f41foiv7g</td>\n",
       "      <td> zh1dw</td>\n",
       "      <td>           mobile</td>\n",
       "      <td>  phone370</td>\n",
       "      <td> 9709222052631578</td>\n",
       "      <td> mx</td>\n",
       "      <td>   66.167.90.216</td>\n",
       "      <td> 90o8e7o72wgsnj8</td>\n",
       "    </tr>\n",
       "    <tr>\n",
       "      <th>7656328</th>\n",
       "      <td> 7656328</td>\n",
       "      <td> 86a02c9b3d20806079a30fef9a347865l7uo9</td>\n",
       "      <td> c11o6</td>\n",
       "      <td>           mobile</td>\n",
       "      <td>   phone57</td>\n",
       "      <td> 9709222052631578</td>\n",
       "      <td> th</td>\n",
       "      <td>  119.88.125.198</td>\n",
       "      <td> em5j6k9kelyfnly</td>\n",
       "    </tr>\n",
       "    <tr>\n",
       "      <th>7656329</th>\n",
       "      <td> 7656329</td>\n",
       "      <td> 626159dd6f2228ede002d9f9340f75b7puk8d</td>\n",
       "      <td> 3e64w</td>\n",
       "      <td>          jewelry</td>\n",
       "      <td>   phone91</td>\n",
       "      <td> 9709222052631578</td>\n",
       "      <td> ru</td>\n",
       "      <td>  140.204.227.63</td>\n",
       "      <td> cghhmomsaxi6pug</td>\n",
       "    </tr>\n",
       "    <tr>\n",
       "      <th>7656330</th>\n",
       "      <td> 7656330</td>\n",
       "      <td> a318ea333ceee1ba39a494476386136a826dv</td>\n",
       "      <td> xn0y0</td>\n",
       "      <td>           mobile</td>\n",
       "      <td>  phone236</td>\n",
       "      <td> 9709222052631578</td>\n",
       "      <td> pl</td>\n",
       "      <td>  24.232.159.118</td>\n",
       "      <td> wgggpdg2gx5pesn</td>\n",
       "    </tr>\n",
       "    <tr>\n",
       "      <th>7656331</th>\n",
       "      <td> 7656331</td>\n",
       "      <td> f5b2bbad20d1d7ded3ed960393bec0f40u6hn</td>\n",
       "      <td> gja6c</td>\n",
       "      <td>   sporting goods</td>\n",
       "      <td>   phone80</td>\n",
       "      <td> 9709222052631578</td>\n",
       "      <td> za</td>\n",
       "      <td>   80.237.28.246</td>\n",
       "      <td> 5xgysg14grlersa</td>\n",
       "    </tr>\n",
       "    <tr>\n",
       "      <th>7656332</th>\n",
       "      <td> 7656332</td>\n",
       "      <td> d4bd412590f5106b9d887a43c51b254eldo4f</td>\n",
       "      <td> hmwk8</td>\n",
       "      <td>          jewelry</td>\n",
       "      <td>  phone349</td>\n",
       "      <td> 9709222052631578</td>\n",
       "      <td> my</td>\n",
       "      <td>   91.162.27.152</td>\n",
       "      <td> bhtrek44bzi2wfl</td>\n",
       "    </tr>\n",
       "    <tr>\n",
       "      <th>7656333</th>\n",
       "      <td> 7656333</td>\n",
       "      <td> 0ea62aaa9c3ffcc6db584cb69c1f6c4bcripp</td>\n",
       "      <td> c9ox9</td>\n",
       "      <td>           mobile</td>\n",
       "      <td>   phone82</td>\n",
       "      <td> 9709222052631578</td>\n",
       "      <td> jo</td>\n",
       "      <td>  160.243.101.60</td>\n",
       "      <td> vasstdc27m7nks3</td>\n",
       "    </tr>\n",
       "  </tbody>\n",
       "</table>\n",
       "<p>7656334 rows × 9 columns</p>\n",
       "</div>"
      ],
      "text/plain": [
       "          bid_id                              bidder_id auction  \\\n",
       "0              0  8dac2b259fd1c6d1120e519fb1ac14fbqvax8   ewmzr   \n",
       "1              1  668d393e858e8126275433046bbd35c6tywop   aeqok   \n",
       "2              2  aa5f360084278b35d746fa6af3a7a1a5ra3xe   wa00e   \n",
       "3              3  3939ac3ef7d472a59a9c5f893dd3e39fh9ofi   jefix   \n",
       "4              4  8393c48eaf4b8fa96886edc7cf27b372dsibi   jefix   \n",
       "5              5  e8291466de91b0eb4e1515143c7f74dexy2yr   3vi4t   \n",
       "6              6  eef4c687daf977f64fc1d08675c44444raj3s   kjlzx   \n",
       "7              7  ab056855c9ca9d36390feae1fa485883issyg   f5f6k   \n",
       "8              8  d600dc03b11e7d782e1e4dae091b084a1h5ch   h7jjx   \n",
       "9              9  a58ace8b671a7531c88814bc86b2a34cf0crb   3zpkj   \n",
       "10            10  a58ace8b671a7531c88814bc86b2a34cf0crb   z6j8b   \n",
       "11            11  fe37b8b29d26021ea9462bcc7c5bf5c2pbya7   jefix   \n",
       "12            12  990db0dcdb665fb8fda5845b3e5d63082mbqq   jefix   \n",
       "13            13  7e34a26c4c339e875997f4b9239d2b5fscng4   nbx39   \n",
       "14            14  8dac2b259fd1c6d1120e519fb1ac14fbqvax8   wberf   \n",
       "15            15  6c8ffec692e88d81e1b18d47818abb04v6llr   3pt0o   \n",
       "16            16  1a9c554b044c77239b63636008d353d4vy9kh   xk5nb   \n",
       "17            17  ffbc0fdfbf19a8a9116b68714138f2902cc13   nbx39   \n",
       "18            18  c4856fd5abe8f6d6dea36ca2fec444faauos8   2hkjh   \n",
       "19            19  37bf6f23b628a3e2b5b22ba81beccbef0efoh   qtmwx   \n",
       "20            20  af9c96944265cf541b3fe734a057821a825l7   jtxiv   \n",
       "21            21  d174177146370aacbd5ae107b6be78828tx3e   ksqse   \n",
       "22            22  6b09f3376045ebad1504abe3b05c9c943aezq   ctfha   \n",
       "23            23  6c8ffec692e88d81e1b18d47818abb04v6llr   2yowp   \n",
       "24            24  d47110cdd3eeb1ec25659f4285730e0a28ofd   7msk4   \n",
       "25            25  668d393e858e8126275433046bbd35c6tywop   38v0a   \n",
       "26            26  c709b6c05ebd88124fe639a70103c8aerho8s   46i7t   \n",
       "27            27  aa5f360084278b35d746fa6af3a7a1a5ra3xe   88xe3   \n",
       "28            28  a58ace8b671a7531c88814bc86b2a34cf0crb   74uth   \n",
       "29            29  0dea01e325acccb9d2e7cdbf0150619c6aycy   hf2fe   \n",
       "...          ...                                    ...     ...   \n",
       "7656304  7656304  7b31d9d8b5e749cdd2c300cbcbb5f875kjlsz   436hc   \n",
       "7656305  7656305  8251041848182e6468c8119905a177dekmshg   sxgg1   \n",
       "7656306  7656306  f5b2bbad20d1d7ded3ed960393bec0f40u6hn   i1zt4   \n",
       "7656307  7656307  700966013ae97127a88ddd166e4c11fb383s0   3i7yq   \n",
       "7656308  7656308  7264bde42ef4fe3fa19cc7c6d64696cf7pqtd   jqx39   \n",
       "7656309  7656309  29c103503e1d6ace5626fb07a5ab0dafrtjvs   plhvh   \n",
       "7656310  7656310  3350dc181383b032a6542a61c67713f9lmevm   r9bkk   \n",
       "7656311  7656311  11d5f6925da5809e2d447788b85d6253jj8fu   k3vyk   \n",
       "7656312  7656312  ac2d643e0c0d3bfe8e54e5a961c6cfdb5xn9v   cj0ud   \n",
       "7656313  7656313  9655ccc7c0c193f1549475f02c54dce45kjw7   jqx39   \n",
       "7656314  7656314  f5b2bbad20d1d7ded3ed960393bec0f40u6hn   t6vqu   \n",
       "7656315  7656315  3e2f6796d57de4ed3e311de6832755938jue0   m0i8j   \n",
       "7656316  7656316  3350dc181383b032a6542a61c67713f9lmevm   zu7ij   \n",
       "7656317  7656317  c5c2d4b9864f2e985012c4eea0f99af4a7qlx   1olil   \n",
       "7656318  7656318  6713e820273f591bdff7d26a48ee30c5k4iii   efqf6   \n",
       "7656319  7656319  66513f72be85596a527f9f653db3cb72cq4jg   obrso   \n",
       "7656320  7656320  93e3c34171ab65e0b031dc67461e48b478u36   uotsf   \n",
       "7656321  7656321  f5b2bbad20d1d7ded3ed960393bec0f40u6hn   gja6c   \n",
       "7656322  7656322  ab536d878cbf7fd8347859dcec97ca2a9oz07   jqx39   \n",
       "7656323  7656323  9655ccc7c0c193f1549475f02c54dce45kjw7   1f9t0   \n",
       "7656324  7656324  3350dc181383b032a6542a61c67713f9lmevm   r9bkk   \n",
       "7656325  7656325  93e3c34171ab65e0b031dc67461e48b478u36   jmny0   \n",
       "7656326  7656326  03aafab9868455b78f0723eda86698ba9v9rm   lw44y   \n",
       "7656327  7656327  a939f51234ad2c44eb9ccc84e754f41foiv7g   zh1dw   \n",
       "7656328  7656328  86a02c9b3d20806079a30fef9a347865l7uo9   c11o6   \n",
       "7656329  7656329  626159dd6f2228ede002d9f9340f75b7puk8d   3e64w   \n",
       "7656330  7656330  a318ea333ceee1ba39a494476386136a826dv   xn0y0   \n",
       "7656331  7656331  f5b2bbad20d1d7ded3ed960393bec0f40u6hn   gja6c   \n",
       "7656332  7656332  d4bd412590f5106b9d887a43c51b254eldo4f   hmwk8   \n",
       "7656333  7656333  0ea62aaa9c3ffcc6db584cb69c1f6c4bcripp   c9ox9   \n",
       "\n",
       "              merchandise     device              time country  \\\n",
       "0                 jewelry     phone0  9759243157894736      us   \n",
       "1               furniture     phone1  9759243157894736      in   \n",
       "2              home goods     phone2  9759243157894736      py   \n",
       "3                 jewelry     phone4  9759243157894736      in   \n",
       "4                 jewelry     phone5  9759243157894736      in   \n",
       "5                  mobile     phone7  9759243157894736      ru   \n",
       "6                  mobile     phone2  9759243210526315      th   \n",
       "7              home goods     phone8  9759243210526315      id   \n",
       "8              home goods     phone9  9759243210526315      th   \n",
       "9          sporting goods     phone4  9759243210526315      za   \n",
       "10         sporting goods    phone10  9759243210526315      ng   \n",
       "11                jewelry    phone11  9759243210526315      sd   \n",
       "12             home goods    phone12  9759243263157894      in   \n",
       "13                 mobile    phone13  9759243263157894      in   \n",
       "14                jewelry    phone15  9759243263157894      au   \n",
       "15             home goods     phone3  9759243263157894      id   \n",
       "16                 mobile    phone16  9759243263157894      in   \n",
       "17                 mobile    phone17  9759243263157894      in   \n",
       "18                jewelry    phone18  9759243263157894      us   \n",
       "19                jewelry    phone16  9759243263157894      in   \n",
       "20       office equipment    phone19  9759243263157894      hr   \n",
       "21             home goods     phone2  9759243263157894      in   \n",
       "22                jewelry     phone5  9759243263157894      np   \n",
       "23             home goods    phone20  9759243263157894      iq   \n",
       "24                jewelry    phone21  9759243315789473      id   \n",
       "25              furniture     phone4  9759243315789473      bd   \n",
       "26             home goods    phone23  9759243315789473      tr   \n",
       "27             home goods    phone24  9759243315789473      ch   \n",
       "28         sporting goods    phone25  9759243315789473      ke   \n",
       "29                jewelry    phone26  9759243315789473      th   \n",
       "...                   ...        ...               ...     ...   \n",
       "7656304           jewelry   phone129  9709221947368421      id   \n",
       "7656305            mobile    phone33  9709221947368421      my   \n",
       "7656306    sporting goods   phone101  9709221947368421      za   \n",
       "7656307        home goods   phone393  9709221947368421      ng   \n",
       "7656308           jewelry     phone3  9709221947368421      in   \n",
       "7656309           jewelry   phone208  9709221947368421      my   \n",
       "7656310            mobile   phone178  9709221947368421      uk   \n",
       "7656311           jewelry    phone98  9709222000000000      in   \n",
       "7656312         furniture    phone76  9709222000000000      th   \n",
       "7656313    sporting goods   phone115  9709222000000000      iq   \n",
       "7656314    sporting goods    phone93  9709222000000000      in   \n",
       "7656315        home goods  phone2903  9709222000000000      us   \n",
       "7656316            mobile  phone1226  9709222000000000      vn   \n",
       "7656317         computers    phone99  9709222000000000      ru   \n",
       "7656318           jewelry    phone91  9709222000000000      tr   \n",
       "7656319            mobile   phone218  9709222000000000      my   \n",
       "7656320           jewelry    phone26  9709222000000000      np   \n",
       "7656321    sporting goods     phone1  9709222000000000      za   \n",
       "7656322           jewelry    phone35  9709222000000000      in   \n",
       "7656323    sporting goods   phone718  9709222000000000      us   \n",
       "7656324            mobile   phone611  9709222052631578      ro   \n",
       "7656325           jewelry   phone892  9709222052631578      id   \n",
       "7656326            mobile    phone16  9709222052631578      in   \n",
       "7656327            mobile   phone370  9709222052631578      mx   \n",
       "7656328            mobile    phone57  9709222052631578      th   \n",
       "7656329           jewelry    phone91  9709222052631578      ru   \n",
       "7656330            mobile   phone236  9709222052631578      pl   \n",
       "7656331    sporting goods    phone80  9709222052631578      za   \n",
       "7656332           jewelry   phone349  9709222052631578      my   \n",
       "7656333            mobile    phone82  9709222052631578      jo   \n",
       "\n",
       "                      ip              url  \n",
       "0          69.166.231.58  vasstdc27m7nks3  \n",
       "1          50.201.125.84  jmqlhflrzwuay9c  \n",
       "2         112.54.208.157  vasstdc27m7nks3  \n",
       "3          18.99.175.133  vasstdc27m7nks3  \n",
       "4           145.138.5.37  vasstdc27m7nks3  \n",
       "5          91.107.221.27  vasstdc27m7nks3  \n",
       "6        152.235.155.159  j9nl1xmo6fqhcc6  \n",
       "7          3.210.112.183  hnt6hu93a3z1cpc  \n",
       "8         103.64.157.225  vasstdc27m7nks3  \n",
       "9         123.28.123.226  vasstdc27m7nks3  \n",
       "10         209.80.85.101  adgjz71s3p2oiau  \n",
       "11       249.145.124.218  9qikt9049fyukcd  \n",
       "12          200.212.4.79  f07dfiidpjifv9w  \n",
       "13        143.183.225.33  e5i17pk9wygxewv  \n",
       "14       134.243.148.253  vasstdc27m7nks3  \n",
       "15       220.216.170.202  l2585vww95sbk1c  \n",
       "16        130.252.241.92  z0xsd05zh5z8j7l  \n",
       "17        254.230.31.160  qlbvjmkspxawtn1  \n",
       "18          161.0.93.123  9vr179ujwjgoxt3  \n",
       "19          67.52.51.193  r1pn2yun70umqqk  \n",
       "20         144.100.75.92  vasstdc27m7nks3  \n",
       "21         249.27.204.83  vasstdc27m7nks3  \n",
       "22          20.126.72.67  vasstdc27m7nks3  \n",
       "23        140.231.164.76  s29w055z2b9jsyt  \n",
       "24          65.42.174.33  uzh1u393rqmc1ox  \n",
       "25         147.64.206.30  vasstdc27m7nks3  \n",
       "26       214.175.246.198  vasstdc27m7nks3  \n",
       "27         144.203.164.7  526pa711hpwgwta  \n",
       "28        243.125.22.173  co51dtt0pyag991  \n",
       "29        86.200.121.249  v8nphksxp6sr3o1  \n",
       "...                  ...              ...  \n",
       "7656304   137.136.99.105  vasstdc27m7nks3  \n",
       "7656305    141.13.102.15  93ujuq0ow6ut8ej  \n",
       "7656306   216.40.171.139  vasstdc27m7nks3  \n",
       "7656307    33.156.38.204  vasstdc27m7nks3  \n",
       "7656308   181.56.172.244  a0f2j3fwdr0711h  \n",
       "7656309     246.78.84.28  ynt7hnnipqzgqya  \n",
       "7656310  163.217.207.124  gue9k1s3p2colah  \n",
       "7656311  173.149.164.232  vasstdc27m7nks3  \n",
       "7656312    36.116.118.68  vasstdc27m7nks3  \n",
       "7656313    10.162.170.57  vasstdc27m7nks3  \n",
       "7656314     152.5.81.191  0pohd8rlkkwjhmc  \n",
       "7656315    186.19.51.149  yc4b1pwe18ap2xy  \n",
       "7656316    133.93.34.164  vasstdc27m7nks3  \n",
       "7656317   59.102.183.155  z3qzkki3dy6ndjb  \n",
       "7656318    67.59.156.153  5eyjocq5x16mby3  \n",
       "7656319  101.146.132.199  10cwyfdww39890h  \n",
       "7656320    71.30.203.219  vasstdc27m7nks3  \n",
       "7656321   231.197.103.67  pqzlexr3qrl6gmx  \n",
       "7656322    76.122.132.27  9vntn3qqkm0h60m  \n",
       "7656323    199.76.204.89  vasstdc27m7nks3  \n",
       "7656324    42.29.129.142  h7a3m8vrjodnkoe  \n",
       "7656325   136.144.47.247  36phop3q8vduhf5  \n",
       "7656326    5.146.235.202  oqknoadbcbcm6so  \n",
       "7656327    66.167.90.216  90o8e7o72wgsnj8  \n",
       "7656328   119.88.125.198  em5j6k9kelyfnly  \n",
       "7656329   140.204.227.63  cghhmomsaxi6pug  \n",
       "7656330   24.232.159.118  wgggpdg2gx5pesn  \n",
       "7656331    80.237.28.246  5xgysg14grlersa  \n",
       "7656332    91.162.27.152  bhtrek44bzi2wfl  \n",
       "7656333   160.243.101.60  vasstdc27m7nks3  \n",
       "\n",
       "[7656334 rows x 9 columns]"
      ]
     },
     "execution_count": 20,
     "metadata": {},
     "output_type": "execute_result"
    }
   ],
   "source": [
    "df_bids"
   ]
  },
  {
   "cell_type": "code",
   "execution_count": 3,
   "metadata": {
    "collapsed": false
   },
   "outputs": [],
   "source": [
    "total_bids = df_bids.groupby('bidder_id').count()['bid_id'].values.reshape(-1,1)"
   ]
  },
  {
   "cell_type": "code",
   "execution_count": 4,
   "metadata": {
    "collapsed": false
   },
   "outputs": [
    {
     "data": {
      "text/plain": [
       "array([[  1],\n",
       "       [  2],\n",
       "       [  1],\n",
       "       ..., \n",
       "       [  1],\n",
       "       [664],\n",
       "       [  1]])"
      ]
     },
     "execution_count": 4,
     "metadata": {},
     "output_type": "execute_result"
    }
   ],
   "source": [
    "total_bids"
   ]
  },
  {
   "cell_type": "code",
   "execution_count": 5,
   "metadata": {
    "collapsed": false
   },
   "outputs": [
    {
     "data": {
      "text/plain": [
       "(6614, 1)"
      ]
     },
     "execution_count": 5,
     "metadata": {},
     "output_type": "execute_result"
    }
   ],
   "source": [
    "total_bids.shape"
   ]
  },
  {
   "cell_type": "code",
   "execution_count": 6,
   "metadata": {
    "collapsed": false
   },
   "outputs": [],
   "source": [
    "country = df_bids.groupby(['bidder_id','auction'])['country'].apply(lambda x: len(x.unique()))"
   ]
  },
  {
   "cell_type": "code",
   "execution_count": 7,
   "metadata": {
    "collapsed": false
   },
   "outputs": [
    {
     "name": "stdout",
     "output_type": "stream",
     "text": [
      "382341\n"
     ]
    },
    {
     "data": {
      "text/plain": [
       "(array([  1.95560000e+04,   1.02700000e+03,   2.84000000e+02,\n",
       "          7.70000000e+01,   2.50000000e+01,   1.30000000e+01,\n",
       "          7.00000000e+00,   1.00000000e+00,   2.00000000e+00,\n",
       "          2.00000000e+00]),\n",
       " array([   2. ,   18.6,   35.2,   51.8,   68.4,   85. ,  101.6,  118.2,\n",
       "         134.8,  151.4,  168. ]),\n",
       " <a list of 10 Patch objects>)"
      ]
     },
     "execution_count": 7,
     "metadata": {},
     "output_type": "execute_result"
    },
    {
     "data": {
      "image/png": "[encoded data removed]",
      "text/plain": [
       "<matplotlib.figure.Figure at 0x7f87540a4290>"
      ]
     },
     "metadata": {},
     "output_type": "display_data"
    }
   ],
   "source": [
    "x = country.values\n",
    "print len(x)\n",
    "plt.hist(x[x>1])"
   ]
  },
  {
   "cell_type": "code",
   "execution_count": 8,
   "metadata": {
    "collapsed": false
   },
   "outputs": [],
   "source": [
    "c1 = df_bids.groupby(['bidder_id','auction'], as_index=False)['country'].aggregate(lambda x: len(x.unique()))"
   ]
  },
  {
   "cell_type": "code",
   "execution_count": 9,
   "metadata": {
    "collapsed": false
   },
   "outputs": [
    {
     "data": {
      "text/plain": [
       "382341"
      ]
     },
     "execution_count": 9,
     "metadata": {},
     "output_type": "execute_result"
    }
   ],
   "source": [
    "country.size"
   ]
  },
  {
   "cell_type": "code",
   "execution_count": 10,
   "metadata": {
    "collapsed": false
   },
   "outputs": [
    {
     "data": {
      "text/plain": [
       "(7656334, 9)"
      ]
     },
     "execution_count": 10,
     "metadata": {},
     "output_type": "execute_result"
    }
   ],
   "source": [
    "df_bids.shape"
   ]
  },
  {
   "cell_type": "code",
   "execution_count": 11,
   "metadata": {
    "collapsed": false
   },
   "outputs": [
    {
     "data": {
      "text/plain": [
       "<pandas.core.groupby.DataFrameGroupBy object at 0x7f8754a1ec10>"
      ]
     },
     "execution_count": 11,
     "metadata": {},
     "output_type": "execute_result"
    }
   ],
   "source": [
    "df_bids.groupby('bidder_id', as_index=False)['bidder_id']"
   ]
  },
  {
   "cell_type": "code",
   "execution_count": 12,
   "metadata": {
    "collapsed": false
   },
   "outputs": [],
   "source": [
    "c2 = c1.groupby('bidder_id')['country'].mean()"
   ]
  },
  {
   "cell_type": "code",
   "execution_count": 13,
   "metadata": {
    "collapsed": false
   },
   "outputs": [
    {
     "data": {
      "text/plain": [
       "(6614,)"
      ]
     },
     "execution_count": 13,
     "metadata": {},
     "output_type": "execute_result"
    }
   ],
   "source": [
    "c2.values.shape"
   ]
  },
  {
   "cell_type": "code",
   "execution_count": 14,
   "metadata": {
    "collapsed": true
   },
   "outputs": [],
   "source": [
    "def get_bidder_stat(df, fun, f1, f2):\n",
    "    c1 = df.groupby(['bidder_id',f1], as_index=False)[f2].aggregate(lambda x: len(x.unique()))\n",
    "    c1[f2] = c1[f2].astype('float')\n",
    "    c2 = c1.groupby('bidder_id')[f2].aggregate(lambda x: fun(x) if x.size>0 else 0)\n",
    "    return c2.values.reshape(-1,1)"
   ]
  },
  {
   "cell_type": "code",
   "execution_count": 15,
   "metadata": {
    "collapsed": true
   },
   "outputs": [],
   "source": [
    "def get_bidder_stat2(df, fun, f1, f2):\n",
    "    c1 = df.groupby(['bidder_id',f1], as_index=False)[f2].aggregate(lambda x: len(x.unique()))\n",
    "    c1[f2] = c1[f2].astype('float')\n",
    "    c2 = c1.groupby('bidder_id')[f2].mean()\n",
    "    return c2.values.reshape(-1,1)"
   ]
  },
  {
   "cell_type": "code",
   "execution_count": 16,
   "metadata": {
    "collapsed": true
   },
   "outputs": [],
   "source": [
    "def get_bidder_stat3(df, fun, f1, f2):\n",
    "    c1 = df.groupby(['bidder_id',f1], as_index=False)[f2].aggregate(lambda x: len(x.unique()))\n",
    "    c2 = c1.groupby('bidder_id')[f2].mean()\n",
    "    return c2.values.reshape(-1,1)"
   ]
  },
  {
   "cell_type": "code",
   "execution_count": 444,
   "metadata": {
    "collapsed": false
   },
   "outputs": [],
   "source": [
    "c_a_mean = get_bidder_stat3(df_bids, np.mean, 'auction', 'country')"
   ]
  },
  {
   "cell_type": "code",
   "execution_count": 445,
   "metadata": {
    "collapsed": false
   },
   "outputs": [],
   "source": [
    "c_a_std = get_bidder_stat(df_bids, np.std, 'auction', 'country')"
   ]
  },
  {
   "cell_type": "code",
   "execution_count": 446,
   "metadata": {
    "collapsed": false
   },
   "outputs": [
    {
     "data": {
      "text/plain": [
       "(0, 6614)"
      ]
     },
     "execution_count": 446,
     "metadata": {},
     "output_type": "execute_result"
    }
   ],
   "source": [
    "np.sum(np.isnan(c_a_std)), c_a_std.shape[0]"
   ]
  },
  {
   "cell_type": "code",
   "execution_count": 447,
   "metadata": {
    "collapsed": true
   },
   "outputs": [],
   "source": [
    "d_a_mean = get_bidder_stat3(df_bids, np.mean, 'auction', 'device')"
   ]
  },
  {
   "cell_type": "code",
   "execution_count": 448,
   "metadata": {
    "collapsed": true
   },
   "outputs": [],
   "source": [
    "d_a_std = get_bidder_stat(df_bids, np.std, 'auction', 'device')"
   ]
  },
  {
   "cell_type": "code",
   "execution_count": 449,
   "metadata": {
    "collapsed": true
   },
   "outputs": [],
   "source": [
    "i_a_mean = get_bidder_stat3(df_bids, np.mean, 'auction', 'ip')"
   ]
  },
  {
   "cell_type": "code",
   "execution_count": 450,
   "metadata": {
    "collapsed": true
   },
   "outputs": [],
   "source": [
    "i_a_std = get_bidder_stat(df_bids, np.std, 'auction', 'ip')"
   ]
  },
  {
   "cell_type": "code",
   "execution_count": 451,
   "metadata": {
    "collapsed": true
   },
   "outputs": [],
   "source": [
    "u_a_mean = get_bidder_stat3(df_bids, np.mean, 'auction', 'url')"
   ]
  },
  {
   "cell_type": "code",
   "execution_count": 452,
   "metadata": {
    "collapsed": true
   },
   "outputs": [],
   "source": [
    "u_a_std = get_bidder_stat(df_bids, np.std, 'auction', 'url')"
   ]
  },
  {
   "cell_type": "code",
   "execution_count": 17,
   "metadata": {
    "collapsed": true
   },
   "outputs": [],
   "source": [
    "def get_bidder_stat_miss(df, fun, f1, f2):\n",
    "    c1 = df.groupby(['bidder_id',f1], as_index=False)[f2].aggregate(lambda x: len(x.unique()))\n",
    "    # create missing df\n",
    "    ids_missing = set(df['bidder_id'])-set(c1['bidder_id'])\n",
    "    len_missing = len(ids_missing)\n",
    "    ids_a = np.array(list(ids_missing)).reshape(-1,1)\n",
    "    empty_str_a = np.array(['' for i in range(len_missing)]).reshape(-1,1)\n",
    "    missing_a = np.hstack([ids_a, empty_str_a, np.zeros((len_missing,1))])\n",
    "    df_missing = pd.DataFrame(missing_a, columns=['bidder_id', f1, f2])\n",
    "    # concat\n",
    "    new_df = pd.concat([pd.DataFrame(c1), df_missing], ignore_index=True)\n",
    "    new_df[f2] = new_df[f2].astype('float') # because pandas is fucky\n",
    "    # new_df acts as c1\n",
    "    c2 = new_df.groupby('bidder_id')[f2].aggregate(lambda x: fun(x) if x.size>0 else 0)\n",
    "    return c2.values.reshape(-1,1)"
   ]
  },
  {
   "cell_type": "code",
   "execution_count": 19,
   "metadata": {
    "collapsed": false
   },
   "outputs": [
    {
     "data": {
      "text/plain": [
       "array([[ 0.        ],\n",
       "       [ 0.        ],\n",
       "       [ 0.        ],\n",
       "       ..., \n",
       "       [ 0.        ],\n",
       "       [ 3.21772165],\n",
       "       [ 0.        ]])"
      ]
     },
     "execution_count": 19,
     "metadata": {},
     "output_type": "execute_result"
    }
   ],
   "source": [
    "# test\n",
    "\n",
    "get_bidder_stat_miss(df_bids, np.std, 'url', 'ip')\n",
    "\n",
    "\n"
   ]
  },
  {
   "cell_type": "code",
   "execution_count": 454,
   "metadata": {
    "collapsed": true
   },
   "outputs": [],
   "source": [
    "u_c_mean = get_bidder_stat_miss(df_bids, np.mean, 'country', 'url')"
   ]
  },
  {
   "cell_type": "code",
   "execution_count": 455,
   "metadata": {
    "collapsed": false
   },
   "outputs": [],
   "source": [
    "u_c_std = get_bidder_stat_miss(df_bids, np.std, 'country', 'url')"
   ]
  },
  {
   "cell_type": "code",
   "execution_count": 456,
   "metadata": {
    "collapsed": false
   },
   "outputs": [],
   "source": [
    "i_c_mean = get_bidder_stat_miss(df_bids, np.mean, 'country', 'ip')"
   ]
  },
  {
   "cell_type": "code",
   "execution_count": 457,
   "metadata": {
    "collapsed": true
   },
   "outputs": [],
   "source": [
    "i_c_std = get_bidder_stat_miss(df_bids, np.std, 'country', 'ip')"
   ]
  },
  {
   "cell_type": "code",
   "execution_count": 458,
   "metadata": {
    "collapsed": true
   },
   "outputs": [],
   "source": [
    "d_c_mean = get_bidder_stat_miss(df_bids, np.mean, 'country', 'device')"
   ]
  },
  {
   "cell_type": "code",
   "execution_count": 459,
   "metadata": {
    "collapsed": true
   },
   "outputs": [],
   "source": [
    "d_c_std = get_bidder_stat_miss(df_bids, np.std, 'country', 'device')"
   ]
  },
  {
   "cell_type": "code",
   "execution_count": 460,
   "metadata": {
    "collapsed": true
   },
   "outputs": [],
   "source": [
    "a_c_mean = get_bidder_stat_miss(df_bids, np.mean, 'country', 'auction')"
   ]
  },
  {
   "cell_type": "code",
   "execution_count": 461,
   "metadata": {
    "collapsed": true
   },
   "outputs": [],
   "source": [
    "a_c_std = get_bidder_stat_miss(df_bids, np.std, 'country', 'auction')"
   ]
  },
  {
   "cell_type": "code",
   "execution_count": 462,
   "metadata": {
    "collapsed": false
   },
   "outputs": [],
   "source": [
    "#big_x = np.hstack([total_bids, c_a_mean, d_a_mean, i_a_mean, u_a_mean])"
   ]
  },
  {
   "cell_type": "code",
   "execution_count": 463,
   "metadata": {
    "collapsed": true
   },
   "outputs": [],
   "source": [
    "big_x = np.hstack([total_bids, c_a_mean, d_a_mean, i_a_mean, u_a_mean, c_a_std, d_a_std, i_a_std, u_a_std, u_c_mean, i_c_mean, d_c_mean, a_c_mean, u_c_std, i_c_std, d_c_std, a_c_std])"
   ]
  },
  {
   "cell_type": "code",
   "execution_count": 464,
   "metadata": {
    "collapsed": false
   },
   "outputs": [
    {
     "data": {
      "text/plain": [
       "0"
      ]
     },
     "execution_count": 464,
     "metadata": {},
     "output_type": "execute_result"
    }
   ],
   "source": [
    "np.sum(np.isnan(big_x))"
   ]
  },
  {
   "cell_type": "code",
   "execution_count": 465,
   "metadata": {
    "collapsed": false
   },
   "outputs": [
    {
     "data": {
      "text/plain": [
       "(6614, 1)"
      ]
     },
     "execution_count": 465,
     "metadata": {},
     "output_type": "execute_result"
    }
   ],
   "source": [
    "total_bids.shape"
   ]
  },
  {
   "cell_type": "code",
   "execution_count": 466,
   "metadata": {
    "collapsed": false
   },
   "outputs": [
    {
     "data": {
      "text/plain": [
       "(6614, 1)"
      ]
     },
     "execution_count": 466,
     "metadata": {},
     "output_type": "execute_result"
    }
   ],
   "source": [
    "c_a.shape"
   ]
  },
  {
   "cell_type": "code",
   "execution_count": 467,
   "metadata": {
    "collapsed": false
   },
   "outputs": [
    {
     "data": {
      "text/plain": [
       "(6614, 17)"
      ]
     },
     "execution_count": 467,
     "metadata": {},
     "output_type": "execute_result"
    }
   ],
   "source": [
    "big_x.shape"
   ]
  },
  {
   "cell_type": "code",
   "execution_count": 468,
   "metadata": {
    "collapsed": true
   },
   "outputs": [],
   "source": [
    "bids_train_idx = df_bids['bidder_id'].isin(list(df_train['bidder_id'])).values"
   ]
  },
  {
   "cell_type": "code",
   "execution_count": 469,
   "metadata": {
    "collapsed": false
   },
   "outputs": [
    {
     "ename": "IndexError",
     "evalue": "index 6615 is out of bounds for axis 0 with size 6614",
     "output_type": "error",
     "traceback": [
      "\u001b[1;31m---------------------------------------------------------------------------\u001b[0m",
      "\u001b[1;31mIndexError\u001b[0m                                Traceback (most recent call last)",
      "\u001b[1;32m<ipython-input-469-d9ea022eee9e>\u001b[0m in \u001b[0;36m<module>\u001b[1;34m()\u001b[0m\n\u001b[1;32m----> 1\u001b[1;33m \u001b[0mx_train\u001b[0m \u001b[1;33m=\u001b[0m \u001b[0mbig_x\u001b[0m\u001b[1;33m[\u001b[0m\u001b[0mbids_train_idx\u001b[0m\u001b[1;33m,\u001b[0m\u001b[1;33m:\u001b[0m\u001b[1;33m]\u001b[0m\u001b[1;33m\u001b[0m\u001b[0m\n\u001b[0m",
      "\u001b[1;31mIndexError\u001b[0m: index 6615 is out of bounds for axis 0 with size 6614"
     ]
    }
   ],
   "source": [
    "x_train = big_x[bids_train_idx,:]"
   ]
  },
  {
   "cell_type": "code",
   "execution_count": 470,
   "metadata": {
    "collapsed": false
   },
   "outputs": [],
   "source": [
    "ids = df_bids['bidder_id'].unique()"
   ]
  },
  {
   "cell_type": "code",
   "execution_count": 471,
   "metadata": {
    "collapsed": true
   },
   "outputs": [],
   "source": [
    "ids.sort()"
   ]
  },
  {
   "cell_type": "code",
   "execution_count": 472,
   "metadata": {
    "collapsed": false
   },
   "outputs": [
    {
     "data": {
      "text/plain": [
       "array(['001068c415025a009fee375a12cff4fcnht8y',\n",
       "       '002d229ffb247009810828f648afc2ef593rb',\n",
       "       '0030a2dd87ad2733e0873062e4f83954mkj86', ...,\n",
       "       'ffd29eb307a4c54610dd2d3d212bf3bagmmpl',\n",
       "       'ffd62646d600b759a985d45918bd6f0431vmz',\n",
       "       'fff2c070d8200e0a09150bd81452ce29ngcnv'], dtype=object)"
      ]
     },
     "execution_count": 472,
     "metadata": {},
     "output_type": "execute_result"
    }
   ],
   "source": [
    "ids"
   ]
  },
  {
   "cell_type": "code",
   "execution_count": 473,
   "metadata": {
    "collapsed": false
   },
   "outputs": [],
   "source": [
    "bids_train_idx = pd.DataFrame(ids).isin(list(df_train['bidder_id'])).values.reshape(-1)"
   ]
  },
  {
   "cell_type": "code",
   "execution_count": 474,
   "metadata": {
    "collapsed": false
   },
   "outputs": [],
   "source": [
    "x_train = big_x[bids_train_idx,:]"
   ]
  },
  {
   "cell_type": "code",
   "execution_count": 475,
   "metadata": {
    "collapsed": false
   },
   "outputs": [
    {
     "data": {
      "text/plain": [
       "(1984, 17)"
      ]
     },
     "execution_count": 475,
     "metadata": {},
     "output_type": "execute_result"
    }
   ],
   "source": [
    "x_train.shape"
   ]
  },
  {
   "cell_type": "code",
   "execution_count": 476,
   "metadata": {
    "collapsed": true
   },
   "outputs": [],
   "source": [
    "x_test = big_x[~bids_train_idx,:]"
   ]
  },
  {
   "cell_type": "code",
   "execution_count": 477,
   "metadata": {
    "collapsed": false
   },
   "outputs": [],
   "source": [
    "bids_y = pd.DataFrame(ids, columns=['bidder_id']).merge(df_train, on='bidder_id')['outcome'].values"
   ]
  },
  {
   "cell_type": "code",
   "execution_count": 478,
   "metadata": {
    "collapsed": false
   },
   "outputs": [],
   "source": [
    "model = RandomForestClassifier()\n",
    "model = model.fit(x_train, bids_y)"
   ]
  },
  {
   "cell_type": "code",
   "execution_count": 479,
   "metadata": {
    "collapsed": false
   },
   "outputs": [
    {
     "data": {
      "text/plain": [
       "0.99092741935483875"
      ]
     },
     "execution_count": 479,
     "metadata": {},
     "output_type": "execute_result"
    }
   ],
   "source": [
    "model.score(x_train, bids_y)"
   ]
  },
  {
   "cell_type": "code",
   "execution_count": 480,
   "metadata": {
    "collapsed": true
   },
   "outputs": [],
   "source": [
    "bids_test_probs = model.predict_proba(x_test)"
   ]
  },
  {
   "cell_type": "code",
   "execution_count": 481,
   "metadata": {
    "collapsed": false
   },
   "outputs": [
    {
     "data": {
      "text/plain": [
       "(4630, 17)"
      ]
     },
     "execution_count": 481,
     "metadata": {},
     "output_type": "execute_result"
    }
   ],
   "source": [
    "x_test.shape"
   ]
  },
  {
   "cell_type": "code",
   "execution_count": 482,
   "metadata": {
    "collapsed": false
   },
   "outputs": [
    {
     "data": {
      "text/plain": [
       "(4630,)"
      ]
     },
     "execution_count": 482,
     "metadata": {},
     "output_type": "execute_result"
    }
   ],
   "source": [
    "ids[~bids_train_idx].shape"
   ]
  },
  {
   "cell_type": "code",
   "execution_count": 483,
   "metadata": {
    "collapsed": false
   },
   "outputs": [],
   "source": [
    "submission = pd.DataFrame(np.hstack((ids[~bids_train_idx].reshape(-1,1), bids_test_probs[:,1].reshape(-1,1))), columns=['bidder_id','prediction'])"
   ]
  },
  {
   "cell_type": "code",
   "execution_count": 484,
   "metadata": {
    "collapsed": true
   },
   "outputs": [],
   "source": [
    "# add missing bidders\n",
    "missing_ids = list(set(df_test['bidder_id'])-set(submission['bidder_id']))\n",
    "\n",
    "missing = pd.DataFrame(np.hstack([np.array(missing_ids).reshape(-1,1), np.zeros((len(missing_ids),1))]),\n",
    "                       columns=['bidder_id','prediction'])\n",
    "submission=submission.append(missing)"
   ]
  },
  {
   "cell_type": "code",
   "execution_count": 485,
   "metadata": {
    "collapsed": false
   },
   "outputs": [
    {
     "data": {
      "text/plain": [
       "(4700, 2)"
      ]
     },
     "execution_count": 485,
     "metadata": {},
     "output_type": "execute_result"
    }
   ],
   "source": [
    "submission.shape"
   ]
  },
  {
   "cell_type": "code",
   "execution_count": 486,
   "metadata": {
    "collapsed": true
   },
   "outputs": [],
   "source": [
    "submission.to_csv('bid_19feats_a_default_rf.csv', index=False)"
   ]
  },
  {
   "cell_type": "code",
   "execution_count": null,
   "metadata": {
    "collapsed": true
   },
   "outputs": [],
   "source": []
  }
 ],
 "metadata": {
  "kernelspec": {
   "display_name": "Python 2",
   "language": "python",
   "name": "python2"
  },
  "language_info": {
   "codemirror_mode": {
    "name": "ipython",
    "version": 2
   },
   "file_extension": ".py",
   "mimetype": "text/x-python",
   "name": "python",
   "nbconvert_exporter": "python",
   "pygments_lexer": "ipython2",
   "version": "2.7.8"
  }
 },
 "nbformat": 4,
 "nbformat_minor": 0
}
